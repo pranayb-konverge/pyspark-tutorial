{
  "nbformat": 4,
  "nbformat_minor": 0,
  "metadata": {
    "colab": {
      "name": "PySpark_tutorial.ipynb",
      "provenance": [],
      "collapsed_sections": [],
      "authorship_tag": "ABX9TyMM4HBguh8kbFk76QeBRTVj",
      "include_colab_link": true
    },
    "kernelspec": {
      "name": "python3",
      "display_name": "Python 3"
    },
    "language_info": {
      "name": "python"
    }
  },
  "cells": [
    {
      "cell_type": "markdown",
      "metadata": {
        "id": "view-in-github",
        "colab_type": "text"
      },
      "source": [
        "<a href=\"https://colab.research.google.com/github/pranayb-konverge/pyspark-tutorial/blob/main/PySpark_tutorial.ipynb\" target=\"_parent\"><img src=\"https://colab.research.google.com/assets/colab-badge.svg\" alt=\"Open In Colab\"/></a>"
      ]
    },
    {
      "cell_type": "markdown",
      "source": [
        "Install pyspark"
      ],
      "metadata": {
        "id": "7Kxx5yjLfFFR"
      }
    },
    {
      "cell_type": "code",
      "source": [
        "!pip install pyspark"
      ],
      "metadata": {
        "colab": {
          "base_uri": "https://localhost:8080/"
        },
        "id": "QwABy3BkfJk3",
        "outputId": "c1d4cff3-0888-4049-bd4b-9d603bed423d"
      },
      "execution_count": 95,
      "outputs": [
        {
          "output_type": "stream",
          "name": "stdout",
          "text": [
            "Requirement already satisfied: pyspark in /usr/local/lib/python3.7/dist-packages (3.2.1)\n",
            "Requirement already satisfied: py4j==0.10.9.3 in /usr/local/lib/python3.7/dist-packages (from pyspark) (0.10.9.3)\n"
          ]
        }
      ]
    },
    {
      "cell_type": "code",
      "source": [
        "import pyspark"
      ],
      "metadata": {
        "id": "DMFDRzeufSlT"
      },
      "execution_count": 96,
      "outputs": []
    },
    {
      "cell_type": "code",
      "source": [
        "import pandas as pd\n",
        "pd.read_csv('pyspark_dummy_data.csv')"
      ],
      "metadata": {
        "colab": {
          "base_uri": "https://localhost:8080/",
          "height": 424
        },
        "id": "cf5DdMIAgztD",
        "outputId": "160f96f5-adee-470f-d2e7-8475773d4ab0"
      },
      "execution_count": 97,
      "outputs": [
        {
          "output_type": "execute_result",
          "data": {
            "text/plain": [
              "                 Name  Age\n",
              "0        Fair Glowach   34\n",
              "1   Alberik McGuiness   35\n",
              "2      Marys Coweuppe   30\n",
              "3    Ursula Finlaison   35\n",
              "4    Marchall Danslow   33\n",
              "..                ...  ...\n",
              "95       Gideon Stoll   30\n",
              "96     Adelheid Wicks   35\n",
              "97    Alastair Blasio   31\n",
              "98       Glad MacClay   30\n",
              "99      Kirbie Beeton   32\n",
              "\n",
              "[100 rows x 2 columns]"
            ],
            "text/html": [
              "\n",
              "  <div id=\"df-dd3ed691-5a96-4ef3-a240-8be5cb15e9a2\">\n",
              "    <div class=\"colab-df-container\">\n",
              "      <div>\n",
              "<style scoped>\n",
              "    .dataframe tbody tr th:only-of-type {\n",
              "        vertical-align: middle;\n",
              "    }\n",
              "\n",
              "    .dataframe tbody tr th {\n",
              "        vertical-align: top;\n",
              "    }\n",
              "\n",
              "    .dataframe thead th {\n",
              "        text-align: right;\n",
              "    }\n",
              "</style>\n",
              "<table border=\"1\" class=\"dataframe\">\n",
              "  <thead>\n",
              "    <tr style=\"text-align: right;\">\n",
              "      <th></th>\n",
              "      <th>Name</th>\n",
              "      <th>Age</th>\n",
              "    </tr>\n",
              "  </thead>\n",
              "  <tbody>\n",
              "    <tr>\n",
              "      <th>0</th>\n",
              "      <td>Fair Glowach</td>\n",
              "      <td>34</td>\n",
              "    </tr>\n",
              "    <tr>\n",
              "      <th>1</th>\n",
              "      <td>Alberik McGuiness</td>\n",
              "      <td>35</td>\n",
              "    </tr>\n",
              "    <tr>\n",
              "      <th>2</th>\n",
              "      <td>Marys Coweuppe</td>\n",
              "      <td>30</td>\n",
              "    </tr>\n",
              "    <tr>\n",
              "      <th>3</th>\n",
              "      <td>Ursula Finlaison</td>\n",
              "      <td>35</td>\n",
              "    </tr>\n",
              "    <tr>\n",
              "      <th>4</th>\n",
              "      <td>Marchall Danslow</td>\n",
              "      <td>33</td>\n",
              "    </tr>\n",
              "    <tr>\n",
              "      <th>...</th>\n",
              "      <td>...</td>\n",
              "      <td>...</td>\n",
              "    </tr>\n",
              "    <tr>\n",
              "      <th>95</th>\n",
              "      <td>Gideon Stoll</td>\n",
              "      <td>30</td>\n",
              "    </tr>\n",
              "    <tr>\n",
              "      <th>96</th>\n",
              "      <td>Adelheid Wicks</td>\n",
              "      <td>35</td>\n",
              "    </tr>\n",
              "    <tr>\n",
              "      <th>97</th>\n",
              "      <td>Alastair Blasio</td>\n",
              "      <td>31</td>\n",
              "    </tr>\n",
              "    <tr>\n",
              "      <th>98</th>\n",
              "      <td>Glad MacClay</td>\n",
              "      <td>30</td>\n",
              "    </tr>\n",
              "    <tr>\n",
              "      <th>99</th>\n",
              "      <td>Kirbie Beeton</td>\n",
              "      <td>32</td>\n",
              "    </tr>\n",
              "  </tbody>\n",
              "</table>\n",
              "<p>100 rows × 2 columns</p>\n",
              "</div>\n",
              "      <button class=\"colab-df-convert\" onclick=\"convertToInteractive('df-dd3ed691-5a96-4ef3-a240-8be5cb15e9a2')\"\n",
              "              title=\"Convert this dataframe to an interactive table.\"\n",
              "              style=\"display:none;\">\n",
              "        \n",
              "  <svg xmlns=\"http://www.w3.org/2000/svg\" height=\"24px\"viewBox=\"0 0 24 24\"\n",
              "       width=\"24px\">\n",
              "    <path d=\"M0 0h24v24H0V0z\" fill=\"none\"/>\n",
              "    <path d=\"M18.56 5.44l.94 2.06.94-2.06 2.06-.94-2.06-.94-.94-2.06-.94 2.06-2.06.94zm-11 1L8.5 8.5l.94-2.06 2.06-.94-2.06-.94L8.5 2.5l-.94 2.06-2.06.94zm10 10l.94 2.06.94-2.06 2.06-.94-2.06-.94-.94-2.06-.94 2.06-2.06.94z\"/><path d=\"M17.41 7.96l-1.37-1.37c-.4-.4-.92-.59-1.43-.59-.52 0-1.04.2-1.43.59L10.3 9.45l-7.72 7.72c-.78.78-.78 2.05 0 2.83L4 21.41c.39.39.9.59 1.41.59.51 0 1.02-.2 1.41-.59l7.78-7.78 2.81-2.81c.8-.78.8-2.07 0-2.86zM5.41 20L4 18.59l7.72-7.72 1.47 1.35L5.41 20z\"/>\n",
              "  </svg>\n",
              "      </button>\n",
              "      \n",
              "  <style>\n",
              "    .colab-df-container {\n",
              "      display:flex;\n",
              "      flex-wrap:wrap;\n",
              "      gap: 12px;\n",
              "    }\n",
              "\n",
              "    .colab-df-convert {\n",
              "      background-color: #E8F0FE;\n",
              "      border: none;\n",
              "      border-radius: 50%;\n",
              "      cursor: pointer;\n",
              "      display: none;\n",
              "      fill: #1967D2;\n",
              "      height: 32px;\n",
              "      padding: 0 0 0 0;\n",
              "      width: 32px;\n",
              "    }\n",
              "\n",
              "    .colab-df-convert:hover {\n",
              "      background-color: #E2EBFA;\n",
              "      box-shadow: 0px 1px 2px rgba(60, 64, 67, 0.3), 0px 1px 3px 1px rgba(60, 64, 67, 0.15);\n",
              "      fill: #174EA6;\n",
              "    }\n",
              "\n",
              "    [theme=dark] .colab-df-convert {\n",
              "      background-color: #3B4455;\n",
              "      fill: #D2E3FC;\n",
              "    }\n",
              "\n",
              "    [theme=dark] .colab-df-convert:hover {\n",
              "      background-color: #434B5C;\n",
              "      box-shadow: 0px 1px 3px 1px rgba(0, 0, 0, 0.15);\n",
              "      filter: drop-shadow(0px 1px 2px rgba(0, 0, 0, 0.3));\n",
              "      fill: #FFFFFF;\n",
              "    }\n",
              "  </style>\n",
              "\n",
              "      <script>\n",
              "        const buttonEl =\n",
              "          document.querySelector('#df-dd3ed691-5a96-4ef3-a240-8be5cb15e9a2 button.colab-df-convert');\n",
              "        buttonEl.style.display =\n",
              "          google.colab.kernel.accessAllowed ? 'block' : 'none';\n",
              "\n",
              "        async function convertToInteractive(key) {\n",
              "          const element = document.querySelector('#df-dd3ed691-5a96-4ef3-a240-8be5cb15e9a2');\n",
              "          const dataTable =\n",
              "            await google.colab.kernel.invokeFunction('convertToInteractive',\n",
              "                                                     [key], {});\n",
              "          if (!dataTable) return;\n",
              "\n",
              "          const docLinkHtml = 'Like what you see? Visit the ' +\n",
              "            '<a target=\"_blank\" href=https://colab.research.google.com/notebooks/data_table.ipynb>data table notebook</a>'\n",
              "            + ' to learn more about interactive tables.';\n",
              "          element.innerHTML = '';\n",
              "          dataTable['output_type'] = 'display_data';\n",
              "          await google.colab.output.renderOutput(dataTable, element);\n",
              "          const docLink = document.createElement('div');\n",
              "          docLink.innerHTML = docLinkHtml;\n",
              "          element.appendChild(docLink);\n",
              "        }\n",
              "      </script>\n",
              "    </div>\n",
              "  </div>\n",
              "  "
            ]
          },
          "metadata": {},
          "execution_count": 97
        }
      ]
    },
    {
      "cell_type": "code",
      "source": [
        "from pyspark.sql import SparkSession"
      ],
      "metadata": {
        "id": "1zTrHmNrhC8h"
      },
      "execution_count": 98,
      "outputs": []
    },
    {
      "cell_type": "code",
      "source": [
        "spark = SparkSession.builder.appName('Practice').getOrCreate()"
      ],
      "metadata": {
        "id": "8UzBHAWSh1Mg"
      },
      "execution_count": 99,
      "outputs": []
    },
    {
      "cell_type": "code",
      "source": [
        "spark"
      ],
      "metadata": {
        "colab": {
          "base_uri": "https://localhost:8080/",
          "height": 219
        },
        "id": "0-CCSfskiDBX",
        "outputId": "05552e66-2095-4ad5-d297-5df41083ee47"
      },
      "execution_count": 100,
      "outputs": [
        {
          "output_type": "execute_result",
          "data": {
            "text/plain": [
              "<pyspark.sql.session.SparkSession at 0x7f9dfe1ac7d0>"
            ],
            "text/html": [
              "\n",
              "            <div>\n",
              "                <p><b>SparkSession - in-memory</b></p>\n",
              "                \n",
              "        <div>\n",
              "            <p><b>SparkContext</b></p>\n",
              "\n",
              "            <p><a href=\"http://d5d06fed5bff:4040\">Spark UI</a></p>\n",
              "\n",
              "            <dl>\n",
              "              <dt>Version</dt>\n",
              "                <dd><code>v3.2.1</code></dd>\n",
              "              <dt>Master</dt>\n",
              "                <dd><code>local[*]</code></dd>\n",
              "              <dt>AppName</dt>\n",
              "                <dd><code>Practice</code></dd>\n",
              "            </dl>\n",
              "        </div>\n",
              "        \n",
              "            </div>\n",
              "        "
            ]
          },
          "metadata": {},
          "execution_count": 100
        }
      ]
    },
    {
      "cell_type": "markdown",
      "source": [
        "Will cover:\n",
        "\n",
        "1.   PySpark Dataframe\n",
        "2.   Reading The Dataset\n",
        "3. Checking the Datatypes of the Column(Schema)\n",
        "4. Selecting Columns And Indexing\n",
        "5. Check Describe option similar to Pandas\n",
        "6. Adding Columns\n",
        "7. Dropping columns\n",
        "8. Renaming Columns\n",
        "\n",
        "\n",
        "\n",
        "\n",
        "\n",
        "\n",
        "\n",
        "\n"
      ],
      "metadata": {
        "id": "gmPI2eltpxaB"
      }
    },
    {
      "cell_type": "code",
      "source": [
        "## read the data set\n",
        "df_pyspark = spark.read.csv('pyspark_dummy_data2.csv', header=True,inferSchema=True)"
      ],
      "metadata": {
        "id": "en_NE4syiJeg"
      },
      "execution_count": 101,
      "outputs": []
    },
    {
      "cell_type": "code",
      "source": [
        "df_pyspark"
      ],
      "metadata": {
        "colab": {
          "base_uri": "https://localhost:8080/"
        },
        "id": "1xSdUPmpihia",
        "outputId": "43526bb7-2dcd-4ca5-85f7-e337abd65511"
      },
      "execution_count": 102,
      "outputs": [
        {
          "output_type": "execute_result",
          "data": {
            "text/plain": [
              "DataFrame[Name: string, Age: int, Experience: int]"
            ]
          },
          "metadata": {},
          "execution_count": 102
        }
      ]
    },
    {
      "cell_type": "code",
      "source": [
        "# Check the Schema\n",
        "df_pyspark.printSchema()"
      ],
      "metadata": {
        "colab": {
          "base_uri": "https://localhost:8080/"
        },
        "id": "6hQvH602ikwt",
        "outputId": "d5c60dd1-a8eb-4448-ab1c-28a133d869a1"
      },
      "execution_count": 103,
      "outputs": [
        {
          "output_type": "stream",
          "name": "stdout",
          "text": [
            "root\n",
            " |-- Name: string (nullable = true)\n",
            " |-- Age: integer (nullable = true)\n",
            " |-- Experience: integer (nullable = true)\n",
            "\n"
          ]
        }
      ]
    },
    {
      "cell_type": "code",
      "source": [
        "# selecting column/s\n",
        "df_pyspark.columns"
      ],
      "metadata": {
        "colab": {
          "base_uri": "https://localhost:8080/"
        },
        "id": "qyQOoTWRlHo3",
        "outputId": "ae8bbc4d-14d7-4615-d69e-ee9821ccc099"
      },
      "execution_count": 104,
      "outputs": [
        {
          "output_type": "execute_result",
          "data": {
            "text/plain": [
              "['Name', 'Age', 'Experience']"
            ]
          },
          "metadata": {},
          "execution_count": 104
        }
      ]
    },
    {
      "cell_type": "code",
      "source": [
        "df_pyspark.head(3)"
      ],
      "metadata": {
        "colab": {
          "base_uri": "https://localhost:8080/"
        },
        "id": "oKtj9Wnqlxse",
        "outputId": "f791ae2d-3537-4c41-bc2d-d3138c8b3a30"
      },
      "execution_count": 105,
      "outputs": [
        {
          "output_type": "execute_result",
          "data": {
            "text/plain": [
              "[Row(Name='Meridith Marklow', Age=31, Experience=6),\n",
              " Row(Name='Rudie Kirkbride', Age=38, Experience=12),\n",
              " Row(Name='Gerik Kilrow', Age=41, Experience=15)]"
            ]
          },
          "metadata": {},
          "execution_count": 105
        }
      ]
    },
    {
      "cell_type": "code",
      "source": [
        "df_pyspark.select('Name').head(3)"
      ],
      "metadata": {
        "colab": {
          "base_uri": "https://localhost:8080/"
        },
        "id": "LRnjhUlal65Y",
        "outputId": "fe5cb343-730b-41b7-8d07-3efb725568fb"
      },
      "execution_count": 106,
      "outputs": [
        {
          "output_type": "execute_result",
          "data": {
            "text/plain": [
              "[Row(Name='Meridith Marklow'),\n",
              " Row(Name='Rudie Kirkbride'),\n",
              " Row(Name='Gerik Kilrow')]"
            ]
          },
          "metadata": {},
          "execution_count": 106
        }
      ]
    },
    {
      "cell_type": "code",
      "source": [
        "df_pyspark.select(['Name','age']).head(3)"
      ],
      "metadata": {
        "colab": {
          "base_uri": "https://localhost:8080/"
        },
        "id": "UDyctfXhmJhR",
        "outputId": "1ebc600b-347b-4312-cb88-de2a575b7ccc"
      },
      "execution_count": 107,
      "outputs": [
        {
          "output_type": "execute_result",
          "data": {
            "text/plain": [
              "[Row(Name='Meridith Marklow', age=31),\n",
              " Row(Name='Rudie Kirkbride', age=38),\n",
              " Row(Name='Gerik Kilrow', age=41)]"
            ]
          },
          "metadata": {},
          "execution_count": 107
        }
      ]
    },
    {
      "cell_type": "code",
      "source": [
        "# describe option similar to Pandas\n",
        "df_pyspark.describe().show()"
      ],
      "metadata": {
        "colab": {
          "base_uri": "https://localhost:8080/"
        },
        "id": "-IZ0h4WtmZrv",
        "outputId": "3d609eac-6c60-4068-cfe8-c3a6e60262fd"
      },
      "execution_count": 108,
      "outputs": [
        {
          "output_type": "stream",
          "name": "stdout",
          "text": [
            "+-------+---------------+-----------------+----------------+\n",
            "|summary|           Name|              Age|      Experience|\n",
            "+-------+---------------+-----------------+----------------+\n",
            "|  count|             50|               50|              50|\n",
            "|   mean|           null|            36.54|            9.68|\n",
            "| stddev|           null|4.612361385561674|3.12618956950627|\n",
            "|    min|Aimee Retallick|               30|               5|\n",
            "|    max|   Zabrina Titt|               45|              15|\n",
            "+-------+---------------+-----------------+----------------+\n",
            "\n"
          ]
        }
      ]
    },
    {
      "cell_type": "code",
      "source": [
        "# adding columns in data frame\n",
        "df_pyspark = df_pyspark.withColumn('Experience after 2 years', df_pyspark['Experience'] + 2)"
      ],
      "metadata": {
        "id": "nqq_hRFonC-R"
      },
      "execution_count": 109,
      "outputs": []
    },
    {
      "cell_type": "code",
      "source": [
        "df_pyspark.show()"
      ],
      "metadata": {
        "colab": {
          "base_uri": "https://localhost:8080/"
        },
        "id": "poM_aBtYntek",
        "outputId": "053ed2d3-a05b-46ab-f91e-66c6a3ddc767"
      },
      "execution_count": 110,
      "outputs": [
        {
          "output_type": "stream",
          "name": "stdout",
          "text": [
            "+------------------+---+----------+------------------------+\n",
            "|              Name|Age|Experience|Experience after 2 years|\n",
            "+------------------+---+----------+------------------------+\n",
            "|  Meridith Marklow| 31|         6|                       8|\n",
            "|   Rudie Kirkbride| 38|        12|                      14|\n",
            "|      Gerik Kilrow| 41|        15|                      17|\n",
            "|     Ileane Ablott| 31|        11|                      13|\n",
            "|   Anthony Selland| 35|         8|                      10|\n",
            "|  Jock Duckinfield| 43|         5|                       7|\n",
            "|     Temple Latour| 37|        14|                      16|\n",
            "|   Delphinia Arnet| 41|        10|                      12|\n",
            "|  Langston Izakson| 43|         7|                       9|\n",
            "|      Doria Figura| 30|        12|                      14|\n",
            "|      Mellie Eyles| 32|        14|                      16|\n",
            "|      Almire Bertl| 37|         8|                      10|\n",
            "| Rollins Rignoldes| 30|         7|                       9|\n",
            "|Jacklin Champerlen| 32|         9|                      11|\n",
            "| Gretta Sprackling| 33|        11|                      13|\n",
            "|     Gill Edgerton| 38|         5|                       7|\n",
            "|  Jaquith Austwick| 39|        13|                      15|\n",
            "|     Bartie Edwins| 40|        15|                      17|\n",
            "|     Maurine Frude| 33|         8|                      10|\n",
            "|    Tibold Norwell| 37|         9|                      11|\n",
            "+------------------+---+----------+------------------------+\n",
            "only showing top 20 rows\n",
            "\n"
          ]
        }
      ]
    },
    {
      "cell_type": "code",
      "source": [
        "# drop the columns\n",
        "df_pyspark_dropped = df_pyspark.drop('Experience after 2 years')"
      ],
      "metadata": {
        "id": "x2S6WPP-n6ta"
      },
      "execution_count": 111,
      "outputs": []
    },
    {
      "cell_type": "code",
      "source": [
        "df_pyspark_dropped.show()"
      ],
      "metadata": {
        "colab": {
          "base_uri": "https://localhost:8080/"
        },
        "id": "nqEpIWviopwa",
        "outputId": "23b0367a-a33e-4365-bb62-d18da6ad1ee8"
      },
      "execution_count": 112,
      "outputs": [
        {
          "output_type": "stream",
          "name": "stdout",
          "text": [
            "+------------------+---+----------+\n",
            "|              Name|Age|Experience|\n",
            "+------------------+---+----------+\n",
            "|  Meridith Marklow| 31|         6|\n",
            "|   Rudie Kirkbride| 38|        12|\n",
            "|      Gerik Kilrow| 41|        15|\n",
            "|     Ileane Ablott| 31|        11|\n",
            "|   Anthony Selland| 35|         8|\n",
            "|  Jock Duckinfield| 43|         5|\n",
            "|     Temple Latour| 37|        14|\n",
            "|   Delphinia Arnet| 41|        10|\n",
            "|  Langston Izakson| 43|         7|\n",
            "|      Doria Figura| 30|        12|\n",
            "|      Mellie Eyles| 32|        14|\n",
            "|      Almire Bertl| 37|         8|\n",
            "| Rollins Rignoldes| 30|         7|\n",
            "|Jacklin Champerlen| 32|         9|\n",
            "| Gretta Sprackling| 33|        11|\n",
            "|     Gill Edgerton| 38|         5|\n",
            "|  Jaquith Austwick| 39|        13|\n",
            "|     Bartie Edwins| 40|        15|\n",
            "|     Maurine Frude| 33|         8|\n",
            "|    Tibold Norwell| 37|         9|\n",
            "+------------------+---+----------+\n",
            "only showing top 20 rows\n",
            "\n"
          ]
        }
      ]
    },
    {
      "cell_type": "code",
      "source": [
        "df_pyspark = df_pyspark.withColumnRenamed('Experience' , 'Current Experience')"
      ],
      "metadata": {
        "id": "E7Vn7vPZosBC"
      },
      "execution_count": 113,
      "outputs": []
    },
    {
      "cell_type": "code",
      "source": [
        "df_pyspark.show()"
      ],
      "metadata": {
        "colab": {
          "base_uri": "https://localhost:8080/"
        },
        "id": "eaut6lBwpUy8",
        "outputId": "e0ee6eee-0399-4c58-f56e-49ff12dbb2da"
      },
      "execution_count": 114,
      "outputs": [
        {
          "output_type": "stream",
          "name": "stdout",
          "text": [
            "+------------------+---+------------------+------------------------+\n",
            "|              Name|Age|Current Experience|Experience after 2 years|\n",
            "+------------------+---+------------------+------------------------+\n",
            "|  Meridith Marklow| 31|                 6|                       8|\n",
            "|   Rudie Kirkbride| 38|                12|                      14|\n",
            "|      Gerik Kilrow| 41|                15|                      17|\n",
            "|     Ileane Ablott| 31|                11|                      13|\n",
            "|   Anthony Selland| 35|                 8|                      10|\n",
            "|  Jock Duckinfield| 43|                 5|                       7|\n",
            "|     Temple Latour| 37|                14|                      16|\n",
            "|   Delphinia Arnet| 41|                10|                      12|\n",
            "|  Langston Izakson| 43|                 7|                       9|\n",
            "|      Doria Figura| 30|                12|                      14|\n",
            "|      Mellie Eyles| 32|                14|                      16|\n",
            "|      Almire Bertl| 37|                 8|                      10|\n",
            "| Rollins Rignoldes| 30|                 7|                       9|\n",
            "|Jacklin Champerlen| 32|                 9|                      11|\n",
            "| Gretta Sprackling| 33|                11|                      13|\n",
            "|     Gill Edgerton| 38|                 5|                       7|\n",
            "|  Jaquith Austwick| 39|                13|                      15|\n",
            "|     Bartie Edwins| 40|                15|                      17|\n",
            "|     Maurine Frude| 33|                 8|                      10|\n",
            "|    Tibold Norwell| 37|                 9|                      11|\n",
            "+------------------+---+------------------+------------------------+\n",
            "only showing top 20 rows\n",
            "\n"
          ]
        }
      ]
    },
    {
      "cell_type": "markdown",
      "source": [
        "Pyspark Handling Missing Values\n",
        "\n",
        "*   Dropping Columns\n",
        "*   Dropping Rows\n",
        "*   Various Parameter In Dropping functionalities\n",
        "*   Handling Missing values by Mean, MEdian And Mode\n",
        "\n"
      ],
      "metadata": {
        "id": "AaAVcFNCqV0t"
      }
    },
    {
      "cell_type": "code",
      "source": [
        "df_pyspark=spark.read.csv('pyspark_dummy_data3.csv',header=True,inferSchema=True)"
      ],
      "metadata": {
        "id": "rPy-oU-6qlCA"
      },
      "execution_count": 115,
      "outputs": []
    },
    {
      "cell_type": "code",
      "source": [
        "df_pyspark.show()"
      ],
      "metadata": {
        "colab": {
          "base_uri": "https://localhost:8080/"
        },
        "id": "UxbVlGiIrQps",
        "outputId": "4b6742f9-1a10-4f24-bfea-49837c437fe9"
      },
      "execution_count": 116,
      "outputs": [
        {
          "output_type": "stream",
          "name": "stdout",
          "text": [
            "+-------------------+----+----------+-------+\n",
            "|               Name| Age|Experience| Salary|\n",
            "+-------------------+----+----------+-------+\n",
            "|  Heriberto Crebott|  34|         5|1584303|\n",
            "|      Loren Gossage|  42|        15|1363913|\n",
            "|   Ruperta Le febre|  43|         9| 929016|\n",
            "|Jaquenette Ratledge|  45|        13|1622024|\n",
            "|        Becky Tiner|  38|        12|1908402|\n",
            "|               null|  31|      null| 145214|\n",
            "|               null|  32|      null| 187452|\n",
            "|              Nitin|null|        12| 215214|\n",
            "+-------------------+----+----------+-------+\n",
            "\n"
          ]
        }
      ]
    },
    {
      "cell_type": "code",
      "source": [
        "df_pyspark.printSchema()"
      ],
      "metadata": {
        "colab": {
          "base_uri": "https://localhost:8080/"
        },
        "id": "q9ATbYo8rUG3",
        "outputId": "b020c689-9951-4bbe-dfda-f0f77016c63c"
      },
      "execution_count": 117,
      "outputs": [
        {
          "output_type": "stream",
          "name": "stdout",
          "text": [
            "root\n",
            " |-- Name: string (nullable = true)\n",
            " |-- Age: integer (nullable = true)\n",
            " |-- Experience: integer (nullable = true)\n",
            " |-- Salary: integer (nullable = true)\n",
            "\n"
          ]
        }
      ]
    },
    {
      "cell_type": "code",
      "source": [
        "##drop the columns\n",
        "df_pyspark.drop('Name').show()"
      ],
      "metadata": {
        "colab": {
          "base_uri": "https://localhost:8080/"
        },
        "id": "E3_OgPYUsZp-",
        "outputId": "bbb43d72-c104-4307-80a6-2ac713deb279"
      },
      "execution_count": 119,
      "outputs": [
        {
          "output_type": "stream",
          "name": "stdout",
          "text": [
            "+----+----------+-------+\n",
            "| Age|Experience| Salary|\n",
            "+----+----------+-------+\n",
            "|  34|         5|1584303|\n",
            "|  42|        15|1363913|\n",
            "|  43|         9| 929016|\n",
            "|  45|        13|1622024|\n",
            "|  38|        12|1908402|\n",
            "|  31|      null| 145214|\n",
            "|  32|      null| 187452|\n",
            "|null|        12| 215214|\n",
            "+----+----------+-------+\n",
            "\n"
          ]
        }
      ]
    },
    {
      "cell_type": "code",
      "source": [
        "# drop only the null rows\n",
        "df_pyspark.na.drop().show()"
      ],
      "metadata": {
        "colab": {
          "base_uri": "https://localhost:8080/"
        },
        "id": "fDrRRnwYsbGk",
        "outputId": "0828a464-afc4-440c-ff0a-f81d2fc702a5"
      },
      "execution_count": 120,
      "outputs": [
        {
          "output_type": "stream",
          "name": "stdout",
          "text": [
            "+-------------------+---+----------+-------+\n",
            "|               Name|Age|Experience| Salary|\n",
            "+-------------------+---+----------+-------+\n",
            "|  Heriberto Crebott| 34|         5|1584303|\n",
            "|      Loren Gossage| 42|        15|1363913|\n",
            "|   Ruperta Le febre| 43|         9| 929016|\n",
            "|Jaquenette Ratledge| 45|        13|1622024|\n",
            "|        Becky Tiner| 38|        12|1908402|\n",
            "+-------------------+---+----------+-------+\n",
            "\n"
          ]
        }
      ]
    },
    {
      "cell_type": "code",
      "source": [
        "### any==how\n",
        "df_pyspark.na.drop(how=\"any\").show()"
      ],
      "metadata": {
        "colab": {
          "base_uri": "https://localhost:8080/"
        },
        "id": "3F0lBV1asej0",
        "outputId": "d6f20589-c2c1-4a8d-d4e2-75e9c6039e88"
      },
      "execution_count": 121,
      "outputs": [
        {
          "output_type": "stream",
          "name": "stdout",
          "text": [
            "+-------------------+---+----------+-------+\n",
            "|               Name|Age|Experience| Salary|\n",
            "+-------------------+---+----------+-------+\n",
            "|  Heriberto Crebott| 34|         5|1584303|\n",
            "|      Loren Gossage| 42|        15|1363913|\n",
            "|   Ruperta Le febre| 43|         9| 929016|\n",
            "|Jaquenette Ratledge| 45|        13|1622024|\n",
            "|        Becky Tiner| 38|        12|1908402|\n",
            "+-------------------+---+----------+-------+\n",
            "\n"
          ]
        }
      ]
    },
    {
      "cell_type": "code",
      "source": [
        "### all==how\n",
        "df_pyspark.na.drop(how=\"all\").show()"
      ],
      "metadata": {
        "colab": {
          "base_uri": "https://localhost:8080/"
        },
        "id": "nvJn2A_uuKXh",
        "outputId": "1db5e472-62ff-4af0-8434-a1cb0beb8130"
      },
      "execution_count": 124,
      "outputs": [
        {
          "output_type": "stream",
          "name": "stdout",
          "text": [
            "+-------------------+----+----------+-------+\n",
            "|               Name| Age|Experience| Salary|\n",
            "+-------------------+----+----------+-------+\n",
            "|  Heriberto Crebott|  34|         5|1584303|\n",
            "|      Loren Gossage|  42|        15|1363913|\n",
            "|   Ruperta Le febre|  43|         9| 929016|\n",
            "|Jaquenette Ratledge|  45|        13|1622024|\n",
            "|        Becky Tiner|  38|        12|1908402|\n",
            "|               null|  31|      null| 145214|\n",
            "|               null|  32|      null| 187452|\n",
            "|              Nitin|null|        12| 215214|\n",
            "+-------------------+----+----------+-------+\n",
            "\n"
          ]
        }
      ]
    },
    {
      "cell_type": "code",
      "source": [
        "##threshold, atleast these many non null values should be present\n",
        "df_pyspark.na.drop(how=\"any\",thresh=3).show()"
      ],
      "metadata": {
        "colab": {
          "base_uri": "https://localhost:8080/"
        },
        "id": "d8ti7kn5smaG",
        "outputId": "71a1b503-41d9-4dcb-c127-946fb30b13ed"
      },
      "execution_count": 126,
      "outputs": [
        {
          "output_type": "stream",
          "name": "stdout",
          "text": [
            "+-------------------+---+----------+-------+\n",
            "|               Name|Age|Experience| Salary|\n",
            "+-------------------+---+----------+-------+\n",
            "|  Heriberto Crebott| 34|         5|1584303|\n",
            "|      Loren Gossage| 42|        15|1363913|\n",
            "|   Ruperta Le febre| 43|         9| 929016|\n",
            "|Jaquenette Ratledge| 45|        13|1622024|\n",
            "|        Becky Tiner| 38|        12|1908402|\n",
            "+-------------------+---+----------+-------+\n",
            "\n"
          ]
        }
      ]
    },
    {
      "cell_type": "code",
      "source": [
        "##Subset - drop only values from that perticular column\n",
        "df_pyspark.na.drop(how=\"any\",subset=['Age']).show()"
      ],
      "metadata": {
        "colab": {
          "base_uri": "https://localhost:8080/"
        },
        "id": "0xx8-zazsrp2",
        "outputId": "5493b4fb-9195-4ad1-8293-5f78f210e97f"
      },
      "execution_count": 123,
      "outputs": [
        {
          "output_type": "stream",
          "name": "stdout",
          "text": [
            "+-------------------+---+----------+-------+\n",
            "|               Name|Age|Experience| Salary|\n",
            "+-------------------+---+----------+-------+\n",
            "|  Heriberto Crebott| 34|         5|1584303|\n",
            "|      Loren Gossage| 42|        15|1363913|\n",
            "|   Ruperta Le febre| 43|         9| 929016|\n",
            "|Jaquenette Ratledge| 45|        13|1622024|\n",
            "|        Becky Tiner| 38|        12|1908402|\n",
            "|               null| 31|      null| 145214|\n",
            "|               null| 32|      null| 187452|\n",
            "+-------------------+---+----------+-------+\n",
            "\n"
          ]
        }
      ]
    },
    {
      "cell_type": "code",
      "source": [
        "### Filling the Missing Value\n",
        "df_pyspark.na.fill('Missing Values',['Name','Age','Experience']).show()"
      ],
      "metadata": {
        "colab": {
          "base_uri": "https://localhost:8080/"
        },
        "id": "0A0A7P4bsvnJ",
        "outputId": "15a6bfa8-5979-4628-f3a2-53b5f1df8136"
      },
      "execution_count": 138,
      "outputs": [
        {
          "output_type": "stream",
          "name": "stdout",
          "text": [
            "+-------------------+----+----------+-------+\n",
            "|               Name| Age|Experience| Salary|\n",
            "+-------------------+----+----------+-------+\n",
            "|  Heriberto Crebott|  34|         5|1584303|\n",
            "|      Loren Gossage|  42|        15|1363913|\n",
            "|   Ruperta Le febre|  43|         9| 929016|\n",
            "|Jaquenette Ratledge|  45|        13|1622024|\n",
            "|        Becky Tiner|  38|        12|1908402|\n",
            "|     Missing Values|  31|      null| 145214|\n",
            "|     Missing Values|  32|      null| 187452|\n",
            "|              Nitin|null|        12| 215214|\n",
            "+-------------------+----+----------+-------+\n",
            "\n"
          ]
        }
      ]
    },
    {
      "cell_type": "code",
      "source": [
        "# include the mean of the column in the null cels\n",
        "from pyspark.ml.feature import Imputer\n",
        "\n",
        "imputer = Imputer(\n",
        "    inputCols=['Age', 'Experience', 'Salary'], \n",
        "    outputCols=[\"{}_imputed\".format(c) for c in ['Age', 'Experience', 'Salary']]\n",
        "    ).setStrategy(\"median\")"
      ],
      "metadata": {
        "id": "UGJgm3Z0vCSm"
      },
      "execution_count": 131,
      "outputs": []
    },
    {
      "cell_type": "code",
      "source": [
        "# Add imputation cols to df\n",
        "imputer.fit(df_pyspark).transform(df_pyspark).show()"
      ],
      "metadata": {
        "colab": {
          "base_uri": "https://localhost:8080/"
        },
        "id": "DLDfmbUBvLJX",
        "outputId": "b369c651-9fbb-40ef-e7b9-68bab705d8e4"
      },
      "execution_count": 132,
      "outputs": [
        {
          "output_type": "stream",
          "name": "stdout",
          "text": [
            "+-------------------+----+----------+-------+-----------+------------------+--------------+\n",
            "|               Name| Age|Experience| Salary|Age_imputed|Experience_imputed|Salary_imputed|\n",
            "+-------------------+----+----------+-------+-----------+------------------+--------------+\n",
            "|  Heriberto Crebott|  34|         5|1584303|         34|                 5|       1584303|\n",
            "|      Loren Gossage|  42|        15|1363913|         42|                15|       1363913|\n",
            "|   Ruperta Le febre|  43|         9| 929016|         43|                 9|        929016|\n",
            "|Jaquenette Ratledge|  45|        13|1622024|         45|                13|       1622024|\n",
            "|        Becky Tiner|  38|        12|1908402|         38|                12|       1908402|\n",
            "|               null|  31|      null| 145214|         31|                12|        145214|\n",
            "|               null|  32|      null| 187452|         32|                12|        187452|\n",
            "|              Nitin|null|        12| 215214|         38|                12|        215214|\n",
            "+-------------------+----+----------+-------+-----------+------------------+--------------+\n",
            "\n"
          ]
        }
      ]
    },
    {
      "cell_type": "code",
      "source": [
        ""
      ],
      "metadata": {
        "id": "BI-MxdluvMoI"
      },
      "execution_count": null,
      "outputs": []
    }
  ]
}