{
  "nbformat": 4,
  "nbformat_minor": 0,
  "metadata": {
    "colab": {
      "name": "PySpark_tutorial.ipynb",
      "provenance": [],
      "collapsed_sections": [],
      "authorship_tag": "ABX9TyNkxVXsvxscQrGLPNfaBvXe",
      "include_colab_link": true
    },
    "kernelspec": {
      "name": "python3",
      "display_name": "Python 3"
    },
    "language_info": {
      "name": "python"
    }
  },
  "cells": [
    {
      "cell_type": "markdown",
      "metadata": {
        "id": "view-in-github",
        "colab_type": "text"
      },
      "source": [
        "<a href=\"https://colab.research.google.com/github/pranayb-konverge/pyspark-tutorial/blob/main/PySpark_tutorial.ipynb\" target=\"_parent\"><img src=\"https://colab.research.google.com/assets/colab-badge.svg\" alt=\"Open In Colab\"/></a>"
      ]
    },
    {
      "cell_type": "markdown",
      "source": [
        "Install pyspark"
      ],
      "metadata": {
        "id": "7Kxx5yjLfFFR"
      }
    },
    {
      "cell_type": "code",
      "source": [
        "!pip install pyspark"
      ],
      "metadata": {
        "colab": {
          "base_uri": "https://localhost:8080/"
        },
        "id": "QwABy3BkfJk3",
        "outputId": "c1d4cff3-0888-4049-bd4b-9d603bed423d"
      },
      "execution_count": 95,
      "outputs": [
        {
          "output_type": "stream",
          "name": "stdout",
          "text": [
            "Requirement already satisfied: pyspark in /usr/local/lib/python3.7/dist-packages (3.2.1)\n",
            "Requirement already satisfied: py4j==0.10.9.3 in /usr/local/lib/python3.7/dist-packages (from pyspark) (0.10.9.3)\n"
          ]
        }
      ]
    },
    {
      "cell_type": "code",
      "source": [
        "import pyspark"
      ],
      "metadata": {
        "id": "DMFDRzeufSlT"
      },
      "execution_count": 96,
      "outputs": []
    },
    {
      "cell_type": "code",
      "source": [
        "import pandas as pd\n",
        "pd.read_csv('pyspark_dummy_data.csv')"
      ],
      "metadata": {
        "colab": {
          "base_uri": "https://localhost:8080/",
          "height": 424
        },
        "id": "cf5DdMIAgztD",
        "outputId": "160f96f5-adee-470f-d2e7-8475773d4ab0"
      },
      "execution_count": 97,
      "outputs": [
        {
          "output_type": "execute_result",
          "data": {
            "text/plain": [
              "                 Name  Age\n",
              "0        Fair Glowach   34\n",
              "1   Alberik McGuiness   35\n",
              "2      Marys Coweuppe   30\n",
              "3    Ursula Finlaison   35\n",
              "4    Marchall Danslow   33\n",
              "..                ...  ...\n",
              "95       Gideon Stoll   30\n",
              "96     Adelheid Wicks   35\n",
              "97    Alastair Blasio   31\n",
              "98       Glad MacClay   30\n",
              "99      Kirbie Beeton   32\n",
              "\n",
              "[100 rows x 2 columns]"
            ],
            "text/html": [
              "\n",
              "  <div id=\"df-dd3ed691-5a96-4ef3-a240-8be5cb15e9a2\">\n",
              "    <div class=\"colab-df-container\">\n",
              "      <div>\n",
              "<style scoped>\n",
              "    .dataframe tbody tr th:only-of-type {\n",
              "        vertical-align: middle;\n",
              "    }\n",
              "\n",
              "    .dataframe tbody tr th {\n",
              "        vertical-align: top;\n",
              "    }\n",
              "\n",
              "    .dataframe thead th {\n",
              "        text-align: right;\n",
              "    }\n",
              "</style>\n",
              "<table border=\"1\" class=\"dataframe\">\n",
              "  <thead>\n",
              "    <tr style=\"text-align: right;\">\n",
              "      <th></th>\n",
              "      <th>Name</th>\n",
              "      <th>Age</th>\n",
              "    </tr>\n",
              "  </thead>\n",
              "  <tbody>\n",
              "    <tr>\n",
              "      <th>0</th>\n",
              "      <td>Fair Glowach</td>\n",
              "      <td>34</td>\n",
              "    </tr>\n",
              "    <tr>\n",
              "      <th>1</th>\n",
              "      <td>Alberik McGuiness</td>\n",
              "      <td>35</td>\n",
              "    </tr>\n",
              "    <tr>\n",
              "      <th>2</th>\n",
              "      <td>Marys Coweuppe</td>\n",
              "      <td>30</td>\n",
              "    </tr>\n",
              "    <tr>\n",
              "      <th>3</th>\n",
              "      <td>Ursula Finlaison</td>\n",
              "      <td>35</td>\n",
              "    </tr>\n",
              "    <tr>\n",
              "      <th>4</th>\n",
              "      <td>Marchall Danslow</td>\n",
              "      <td>33</td>\n",
              "    </tr>\n",
              "    <tr>\n",
              "      <th>...</th>\n",
              "      <td>...</td>\n",
              "      <td>...</td>\n",
              "    </tr>\n",
              "    <tr>\n",
              "      <th>95</th>\n",
              "      <td>Gideon Stoll</td>\n",
              "      <td>30</td>\n",
              "    </tr>\n",
              "    <tr>\n",
              "      <th>96</th>\n",
              "      <td>Adelheid Wicks</td>\n",
              "      <td>35</td>\n",
              "    </tr>\n",
              "    <tr>\n",
              "      <th>97</th>\n",
              "      <td>Alastair Blasio</td>\n",
              "      <td>31</td>\n",
              "    </tr>\n",
              "    <tr>\n",
              "      <th>98</th>\n",
              "      <td>Glad MacClay</td>\n",
              "      <td>30</td>\n",
              "    </tr>\n",
              "    <tr>\n",
              "      <th>99</th>\n",
              "      <td>Kirbie Beeton</td>\n",
              "      <td>32</td>\n",
              "    </tr>\n",
              "  </tbody>\n",
              "</table>\n",
              "<p>100 rows × 2 columns</p>\n",
              "</div>\n",
              "      <button class=\"colab-df-convert\" onclick=\"convertToInteractive('df-dd3ed691-5a96-4ef3-a240-8be5cb15e9a2')\"\n",
              "              title=\"Convert this dataframe to an interactive table.\"\n",
              "              style=\"display:none;\">\n",
              "        \n",
              "  <svg xmlns=\"http://www.w3.org/2000/svg\" height=\"24px\"viewBox=\"0 0 24 24\"\n",
              "       width=\"24px\">\n",
              "    <path d=\"M0 0h24v24H0V0z\" fill=\"none\"/>\n",
              "    <path d=\"M18.56 5.44l.94 2.06.94-2.06 2.06-.94-2.06-.94-.94-2.06-.94 2.06-2.06.94zm-11 1L8.5 8.5l.94-2.06 2.06-.94-2.06-.94L8.5 2.5l-.94 2.06-2.06.94zm10 10l.94 2.06.94-2.06 2.06-.94-2.06-.94-.94-2.06-.94 2.06-2.06.94z\"/><path d=\"M17.41 7.96l-1.37-1.37c-.4-.4-.92-.59-1.43-.59-.52 0-1.04.2-1.43.59L10.3 9.45l-7.72 7.72c-.78.78-.78 2.05 0 2.83L4 21.41c.39.39.9.59 1.41.59.51 0 1.02-.2 1.41-.59l7.78-7.78 2.81-2.81c.8-.78.8-2.07 0-2.86zM5.41 20L4 18.59l7.72-7.72 1.47 1.35L5.41 20z\"/>\n",
              "  </svg>\n",
              "      </button>\n",
              "      \n",
              "  <style>\n",
              "    .colab-df-container {\n",
              "      display:flex;\n",
              "      flex-wrap:wrap;\n",
              "      gap: 12px;\n",
              "    }\n",
              "\n",
              "    .colab-df-convert {\n",
              "      background-color: #E8F0FE;\n",
              "      border: none;\n",
              "      border-radius: 50%;\n",
              "      cursor: pointer;\n",
              "      display: none;\n",
              "      fill: #1967D2;\n",
              "      height: 32px;\n",
              "      padding: 0 0 0 0;\n",
              "      width: 32px;\n",
              "    }\n",
              "\n",
              "    .colab-df-convert:hover {\n",
              "      background-color: #E2EBFA;\n",
              "      box-shadow: 0px 1px 2px rgba(60, 64, 67, 0.3), 0px 1px 3px 1px rgba(60, 64, 67, 0.15);\n",
              "      fill: #174EA6;\n",
              "    }\n",
              "\n",
              "    [theme=dark] .colab-df-convert {\n",
              "      background-color: #3B4455;\n",
              "      fill: #D2E3FC;\n",
              "    }\n",
              "\n",
              "    [theme=dark] .colab-df-convert:hover {\n",
              "      background-color: #434B5C;\n",
              "      box-shadow: 0px 1px 3px 1px rgba(0, 0, 0, 0.15);\n",
              "      filter: drop-shadow(0px 1px 2px rgba(0, 0, 0, 0.3));\n",
              "      fill: #FFFFFF;\n",
              "    }\n",
              "  </style>\n",
              "\n",
              "      <script>\n",
              "        const buttonEl =\n",
              "          document.querySelector('#df-dd3ed691-5a96-4ef3-a240-8be5cb15e9a2 button.colab-df-convert');\n",
              "        buttonEl.style.display =\n",
              "          google.colab.kernel.accessAllowed ? 'block' : 'none';\n",
              "\n",
              "        async function convertToInteractive(key) {\n",
              "          const element = document.querySelector('#df-dd3ed691-5a96-4ef3-a240-8be5cb15e9a2');\n",
              "          const dataTable =\n",
              "            await google.colab.kernel.invokeFunction('convertToInteractive',\n",
              "                                                     [key], {});\n",
              "          if (!dataTable) return;\n",
              "\n",
              "          const docLinkHtml = 'Like what you see? Visit the ' +\n",
              "            '<a target=\"_blank\" href=https://colab.research.google.com/notebooks/data_table.ipynb>data table notebook</a>'\n",
              "            + ' to learn more about interactive tables.';\n",
              "          element.innerHTML = '';\n",
              "          dataTable['output_type'] = 'display_data';\n",
              "          await google.colab.output.renderOutput(dataTable, element);\n",
              "          const docLink = document.createElement('div');\n",
              "          docLink.innerHTML = docLinkHtml;\n",
              "          element.appendChild(docLink);\n",
              "        }\n",
              "      </script>\n",
              "    </div>\n",
              "  </div>\n",
              "  "
            ]
          },
          "metadata": {},
          "execution_count": 97
        }
      ]
    },
    {
      "cell_type": "code",
      "source": [
        "from pyspark.sql import SparkSession"
      ],
      "metadata": {
        "id": "1zTrHmNrhC8h"
      },
      "execution_count": 98,
      "outputs": []
    },
    {
      "cell_type": "code",
      "source": [
        "spark = SparkSession.builder.appName('Practice').getOrCreate()"
      ],
      "metadata": {
        "id": "8UzBHAWSh1Mg"
      },
      "execution_count": 99,
      "outputs": []
    },
    {
      "cell_type": "code",
      "source": [
        "spark"
      ],
      "metadata": {
        "colab": {
          "base_uri": "https://localhost:8080/",
          "height": 219
        },
        "id": "0-CCSfskiDBX",
        "outputId": "05552e66-2095-4ad5-d297-5df41083ee47"
      },
      "execution_count": 100,
      "outputs": [
        {
          "output_type": "execute_result",
          "data": {
            "text/plain": [
              "<pyspark.sql.session.SparkSession at 0x7f9dfe1ac7d0>"
            ],
            "text/html": [
              "\n",
              "            <div>\n",
              "                <p><b>SparkSession - in-memory</b></p>\n",
              "                \n",
              "        <div>\n",
              "            <p><b>SparkContext</b></p>\n",
              "\n",
              "            <p><a href=\"http://d5d06fed5bff:4040\">Spark UI</a></p>\n",
              "\n",
              "            <dl>\n",
              "              <dt>Version</dt>\n",
              "                <dd><code>v3.2.1</code></dd>\n",
              "              <dt>Master</dt>\n",
              "                <dd><code>local[*]</code></dd>\n",
              "              <dt>AppName</dt>\n",
              "                <dd><code>Practice</code></dd>\n",
              "            </dl>\n",
              "        </div>\n",
              "        \n",
              "            </div>\n",
              "        "
            ]
          },
          "metadata": {},
          "execution_count": 100
        }
      ]
    },
    {
      "cell_type": "markdown",
      "source": [
        "Will cover:\n",
        "\n",
        "1.   PySpark Dataframe\n",
        "2.   Reading The Dataset\n",
        "3. Checking the Datatypes of the Column(Schema)\n",
        "4. Selecting Columns And Indexing\n",
        "5. Check Describe option similar to Pandas\n",
        "6. Adding Columns\n",
        "7. Dropping columns\n",
        "8. Renaming Columns\n",
        "\n",
        "\n",
        "\n",
        "\n",
        "\n",
        "\n",
        "\n",
        "\n"
      ],
      "metadata": {
        "id": "gmPI2eltpxaB"
      }
    },
    {
      "cell_type": "code",
      "source": [
        "## read the data set\n",
        "df_pyspark = spark.read.csv('pyspark_dummy_data2.csv', header=True,inferSchema=True)"
      ],
      "metadata": {
        "id": "en_NE4syiJeg"
      },
      "execution_count": 101,
      "outputs": []
    },
    {
      "cell_type": "code",
      "source": [
        "df_pyspark"
      ],
      "metadata": {
        "colab": {
          "base_uri": "https://localhost:8080/"
        },
        "id": "1xSdUPmpihia",
        "outputId": "43526bb7-2dcd-4ca5-85f7-e337abd65511"
      },
      "execution_count": 102,
      "outputs": [
        {
          "output_type": "execute_result",
          "data": {
            "text/plain": [
              "DataFrame[Name: string, Age: int, Experience: int]"
            ]
          },
          "metadata": {},
          "execution_count": 102
        }
      ]
    },
    {
      "cell_type": "code",
      "source": [
        "# Check the Schema\n",
        "df_pyspark.printSchema()"
      ],
      "metadata": {
        "colab": {
          "base_uri": "https://localhost:8080/"
        },
        "id": "6hQvH602ikwt",
        "outputId": "d5c60dd1-a8eb-4448-ab1c-28a133d869a1"
      },
      "execution_count": 103,
      "outputs": [
        {
          "output_type": "stream",
          "name": "stdout",
          "text": [
            "root\n",
            " |-- Name: string (nullable = true)\n",
            " |-- Age: integer (nullable = true)\n",
            " |-- Experience: integer (nullable = true)\n",
            "\n"
          ]
        }
      ]
    },
    {
      "cell_type": "code",
      "source": [
        "# selecting column/s\n",
        "df_pyspark.columns"
      ],
      "metadata": {
        "colab": {
          "base_uri": "https://localhost:8080/"
        },
        "id": "qyQOoTWRlHo3",
        "outputId": "ae8bbc4d-14d7-4615-d69e-ee9821ccc099"
      },
      "execution_count": 104,
      "outputs": [
        {
          "output_type": "execute_result",
          "data": {
            "text/plain": [
              "['Name', 'Age', 'Experience']"
            ]
          },
          "metadata": {},
          "execution_count": 104
        }
      ]
    },
    {
      "cell_type": "code",
      "source": [
        "df_pyspark.head(3)"
      ],
      "metadata": {
        "colab": {
          "base_uri": "https://localhost:8080/"
        },
        "id": "oKtj9Wnqlxse",
        "outputId": "f791ae2d-3537-4c41-bc2d-d3138c8b3a30"
      },
      "execution_count": 105,
      "outputs": [
        {
          "output_type": "execute_result",
          "data": {
            "text/plain": [
              "[Row(Name='Meridith Marklow', Age=31, Experience=6),\n",
              " Row(Name='Rudie Kirkbride', Age=38, Experience=12),\n",
              " Row(Name='Gerik Kilrow', Age=41, Experience=15)]"
            ]
          },
          "metadata": {},
          "execution_count": 105
        }
      ]
    },
    {
      "cell_type": "code",
      "source": [
        "df_pyspark.select('Name').head(3)"
      ],
      "metadata": {
        "colab": {
          "base_uri": "https://localhost:8080/"
        },
        "id": "LRnjhUlal65Y",
        "outputId": "fe5cb343-730b-41b7-8d07-3efb725568fb"
      },
      "execution_count": 106,
      "outputs": [
        {
          "output_type": "execute_result",
          "data": {
            "text/plain": [
              "[Row(Name='Meridith Marklow'),\n",
              " Row(Name='Rudie Kirkbride'),\n",
              " Row(Name='Gerik Kilrow')]"
            ]
          },
          "metadata": {},
          "execution_count": 106
        }
      ]
    },
    {
      "cell_type": "code",
      "source": [
        "df_pyspark.select(['Name','age']).head(3)"
      ],
      "metadata": {
        "colab": {
          "base_uri": "https://localhost:8080/"
        },
        "id": "UDyctfXhmJhR",
        "outputId": "1ebc600b-347b-4312-cb88-de2a575b7ccc"
      },
      "execution_count": 107,
      "outputs": [
        {
          "output_type": "execute_result",
          "data": {
            "text/plain": [
              "[Row(Name='Meridith Marklow', age=31),\n",
              " Row(Name='Rudie Kirkbride', age=38),\n",
              " Row(Name='Gerik Kilrow', age=41)]"
            ]
          },
          "metadata": {},
          "execution_count": 107
        }
      ]
    },
    {
      "cell_type": "code",
      "source": [
        "# describe option similar to Pandas\n",
        "df_pyspark.describe().show()"
      ],
      "metadata": {
        "colab": {
          "base_uri": "https://localhost:8080/"
        },
        "id": "-IZ0h4WtmZrv",
        "outputId": "3d609eac-6c60-4068-cfe8-c3a6e60262fd"
      },
      "execution_count": 108,
      "outputs": [
        {
          "output_type": "stream",
          "name": "stdout",
          "text": [
            "+-------+---------------+-----------------+----------------+\n",
            "|summary|           Name|              Age|      Experience|\n",
            "+-------+---------------+-----------------+----------------+\n",
            "|  count|             50|               50|              50|\n",
            "|   mean|           null|            36.54|            9.68|\n",
            "| stddev|           null|4.612361385561674|3.12618956950627|\n",
            "|    min|Aimee Retallick|               30|               5|\n",
            "|    max|   Zabrina Titt|               45|              15|\n",
            "+-------+---------------+-----------------+----------------+\n",
            "\n"
          ]
        }
      ]
    },
    {
      "cell_type": "code",
      "source": [
        "# adding columns in data frame\n",
        "df_pyspark = df_pyspark.withColumn('Experience after 2 years', df_pyspark['Experience'] + 2)"
      ],
      "metadata": {
        "id": "nqq_hRFonC-R"
      },
      "execution_count": 109,
      "outputs": []
    },
    {
      "cell_type": "code",
      "source": [
        "df_pyspark.show()"
      ],
      "metadata": {
        "colab": {
          "base_uri": "https://localhost:8080/"
        },
        "id": "poM_aBtYntek",
        "outputId": "053ed2d3-a05b-46ab-f91e-66c6a3ddc767"
      },
      "execution_count": 110,
      "outputs": [
        {
          "output_type": "stream",
          "name": "stdout",
          "text": [
            "+------------------+---+----------+------------------------+\n",
            "|              Name|Age|Experience|Experience after 2 years|\n",
            "+------------------+---+----------+------------------------+\n",
            "|  Meridith Marklow| 31|         6|                       8|\n",
            "|   Rudie Kirkbride| 38|        12|                      14|\n",
            "|      Gerik Kilrow| 41|        15|                      17|\n",
            "|     Ileane Ablott| 31|        11|                      13|\n",
            "|   Anthony Selland| 35|         8|                      10|\n",
            "|  Jock Duckinfield| 43|         5|                       7|\n",
            "|     Temple Latour| 37|        14|                      16|\n",
            "|   Delphinia Arnet| 41|        10|                      12|\n",
            "|  Langston Izakson| 43|         7|                       9|\n",
            "|      Doria Figura| 30|        12|                      14|\n",
            "|      Mellie Eyles| 32|        14|                      16|\n",
            "|      Almire Bertl| 37|         8|                      10|\n",
            "| Rollins Rignoldes| 30|         7|                       9|\n",
            "|Jacklin Champerlen| 32|         9|                      11|\n",
            "| Gretta Sprackling| 33|        11|                      13|\n",
            "|     Gill Edgerton| 38|         5|                       7|\n",
            "|  Jaquith Austwick| 39|        13|                      15|\n",
            "|     Bartie Edwins| 40|        15|                      17|\n",
            "|     Maurine Frude| 33|         8|                      10|\n",
            "|    Tibold Norwell| 37|         9|                      11|\n",
            "+------------------+---+----------+------------------------+\n",
            "only showing top 20 rows\n",
            "\n"
          ]
        }
      ]
    },
    {
      "cell_type": "code",
      "source": [
        "# drop the columns\n",
        "df_pyspark_dropped = df_pyspark.drop('Experience after 2 years')"
      ],
      "metadata": {
        "id": "x2S6WPP-n6ta"
      },
      "execution_count": 111,
      "outputs": []
    },
    {
      "cell_type": "code",
      "source": [
        "df_pyspark_dropped.show()"
      ],
      "metadata": {
        "colab": {
          "base_uri": "https://localhost:8080/"
        },
        "id": "nqEpIWviopwa",
        "outputId": "23b0367a-a33e-4365-bb62-d18da6ad1ee8"
      },
      "execution_count": 112,
      "outputs": [
        {
          "output_type": "stream",
          "name": "stdout",
          "text": [
            "+------------------+---+----------+\n",
            "|              Name|Age|Experience|\n",
            "+------------------+---+----------+\n",
            "|  Meridith Marklow| 31|         6|\n",
            "|   Rudie Kirkbride| 38|        12|\n",
            "|      Gerik Kilrow| 41|        15|\n",
            "|     Ileane Ablott| 31|        11|\n",
            "|   Anthony Selland| 35|         8|\n",
            "|  Jock Duckinfield| 43|         5|\n",
            "|     Temple Latour| 37|        14|\n",
            "|   Delphinia Arnet| 41|        10|\n",
            "|  Langston Izakson| 43|         7|\n",
            "|      Doria Figura| 30|        12|\n",
            "|      Mellie Eyles| 32|        14|\n",
            "|      Almire Bertl| 37|         8|\n",
            "| Rollins Rignoldes| 30|         7|\n",
            "|Jacklin Champerlen| 32|         9|\n",
            "| Gretta Sprackling| 33|        11|\n",
            "|     Gill Edgerton| 38|         5|\n",
            "|  Jaquith Austwick| 39|        13|\n",
            "|     Bartie Edwins| 40|        15|\n",
            "|     Maurine Frude| 33|         8|\n",
            "|    Tibold Norwell| 37|         9|\n",
            "+------------------+---+----------+\n",
            "only showing top 20 rows\n",
            "\n"
          ]
        }
      ]
    },
    {
      "cell_type": "code",
      "source": [
        "df_pyspark = df_pyspark.withColumnRenamed('Experience' , 'Current Experience')"
      ],
      "metadata": {
        "id": "E7Vn7vPZosBC"
      },
      "execution_count": 113,
      "outputs": []
    },
    {
      "cell_type": "code",
      "source": [
        "df_pyspark.show()"
      ],
      "metadata": {
        "colab": {
          "base_uri": "https://localhost:8080/"
        },
        "id": "eaut6lBwpUy8",
        "outputId": "e0ee6eee-0399-4c58-f56e-49ff12dbb2da"
      },
      "execution_count": 114,
      "outputs": [
        {
          "output_type": "stream",
          "name": "stdout",
          "text": [
            "+------------------+---+------------------+------------------------+\n",
            "|              Name|Age|Current Experience|Experience after 2 years|\n",
            "+------------------+---+------------------+------------------------+\n",
            "|  Meridith Marklow| 31|                 6|                       8|\n",
            "|   Rudie Kirkbride| 38|                12|                      14|\n",
            "|      Gerik Kilrow| 41|                15|                      17|\n",
            "|     Ileane Ablott| 31|                11|                      13|\n",
            "|   Anthony Selland| 35|                 8|                      10|\n",
            "|  Jock Duckinfield| 43|                 5|                       7|\n",
            "|     Temple Latour| 37|                14|                      16|\n",
            "|   Delphinia Arnet| 41|                10|                      12|\n",
            "|  Langston Izakson| 43|                 7|                       9|\n",
            "|      Doria Figura| 30|                12|                      14|\n",
            "|      Mellie Eyles| 32|                14|                      16|\n",
            "|      Almire Bertl| 37|                 8|                      10|\n",
            "| Rollins Rignoldes| 30|                 7|                       9|\n",
            "|Jacklin Champerlen| 32|                 9|                      11|\n",
            "| Gretta Sprackling| 33|                11|                      13|\n",
            "|     Gill Edgerton| 38|                 5|                       7|\n",
            "|  Jaquith Austwick| 39|                13|                      15|\n",
            "|     Bartie Edwins| 40|                15|                      17|\n",
            "|     Maurine Frude| 33|                 8|                      10|\n",
            "|    Tibold Norwell| 37|                 9|                      11|\n",
            "+------------------+---+------------------+------------------------+\n",
            "only showing top 20 rows\n",
            "\n"
          ]
        }
      ]
    },
    {
      "cell_type": "markdown",
      "source": [
        "Pyspark Handling Missing Values\n",
        "\n",
        "*   Dropping Columns\n",
        "*   Dropping Rows\n",
        "*   Various Parameter In Dropping functionalities\n",
        "*   Handling Missing values by Mean, MEdian And Mode\n",
        "\n"
      ],
      "metadata": {
        "id": "AaAVcFNCqV0t"
      }
    },
    {
      "cell_type": "code",
      "source": [
        "df_pyspark=spark.read.csv('pyspark_dummy_data3.csv',header=True,inferSchema=True)"
      ],
      "metadata": {
        "id": "rPy-oU-6qlCA"
      },
      "execution_count": 115,
      "outputs": []
    },
    {
      "cell_type": "code",
      "source": [
        "df_pyspark.show()"
      ],
      "metadata": {
        "colab": {
          "base_uri": "https://localhost:8080/"
        },
        "id": "UxbVlGiIrQps",
        "outputId": "4b6742f9-1a10-4f24-bfea-49837c437fe9"
      },
      "execution_count": 116,
      "outputs": [
        {
          "output_type": "stream",
          "name": "stdout",
          "text": [
            "+-------------------+----+----------+-------+\n",
            "|               Name| Age|Experience| Salary|\n",
            "+-------------------+----+----------+-------+\n",
            "|  Heriberto Crebott|  34|         5|1584303|\n",
            "|      Loren Gossage|  42|        15|1363913|\n",
            "|   Ruperta Le febre|  43|         9| 929016|\n",
            "|Jaquenette Ratledge|  45|        13|1622024|\n",
            "|        Becky Tiner|  38|        12|1908402|\n",
            "|               null|  31|      null| 145214|\n",
            "|               null|  32|      null| 187452|\n",
            "|              Nitin|null|        12| 215214|\n",
            "+-------------------+----+----------+-------+\n",
            "\n"
          ]
        }
      ]
    },
    {
      "cell_type": "code",
      "source": [
        "df_pyspark.printSchema()"
      ],
      "metadata": {
        "colab": {
          "base_uri": "https://localhost:8080/"
        },
        "id": "q9ATbYo8rUG3",
        "outputId": "b020c689-9951-4bbe-dfda-f0f77016c63c"
      },
      "execution_count": 117,
      "outputs": [
        {
          "output_type": "stream",
          "name": "stdout",
          "text": [
            "root\n",
            " |-- Name: string (nullable = true)\n",
            " |-- Age: integer (nullable = true)\n",
            " |-- Experience: integer (nullable = true)\n",
            " |-- Salary: integer (nullable = true)\n",
            "\n"
          ]
        }
      ]
    },
    {
      "cell_type": "code",
      "source": [
        "##drop the columns\n",
        "df_pyspark.drop('Name').show()"
      ],
      "metadata": {
        "colab": {
          "base_uri": "https://localhost:8080/"
        },
        "id": "E3_OgPYUsZp-",
        "outputId": "bbb43d72-c104-4307-80a6-2ac713deb279"
      },
      "execution_count": 119,
      "outputs": [
        {
          "output_type": "stream",
          "name": "stdout",
          "text": [
            "+----+----------+-------+\n",
            "| Age|Experience| Salary|\n",
            "+----+----------+-------+\n",
            "|  34|         5|1584303|\n",
            "|  42|        15|1363913|\n",
            "|  43|         9| 929016|\n",
            "|  45|        13|1622024|\n",
            "|  38|        12|1908402|\n",
            "|  31|      null| 145214|\n",
            "|  32|      null| 187452|\n",
            "|null|        12| 215214|\n",
            "+----+----------+-------+\n",
            "\n"
          ]
        }
      ]
    },
    {
      "cell_type": "code",
      "source": [
        "# drop only the null rows\n",
        "df_pyspark.na.drop().show()"
      ],
      "metadata": {
        "colab": {
          "base_uri": "https://localhost:8080/"
        },
        "id": "fDrRRnwYsbGk",
        "outputId": "0828a464-afc4-440c-ff0a-f81d2fc702a5"
      },
      "execution_count": 120,
      "outputs": [
        {
          "output_type": "stream",
          "name": "stdout",
          "text": [
            "+-------------------+---+----------+-------+\n",
            "|               Name|Age|Experience| Salary|\n",
            "+-------------------+---+----------+-------+\n",
            "|  Heriberto Crebott| 34|         5|1584303|\n",
            "|      Loren Gossage| 42|        15|1363913|\n",
            "|   Ruperta Le febre| 43|         9| 929016|\n",
            "|Jaquenette Ratledge| 45|        13|1622024|\n",
            "|        Becky Tiner| 38|        12|1908402|\n",
            "+-------------------+---+----------+-------+\n",
            "\n"
          ]
        }
      ]
    },
    {
      "cell_type": "code",
      "source": [
        "### any==how\n",
        "df_pyspark.na.drop(how=\"any\").show()"
      ],
      "metadata": {
        "colab": {
          "base_uri": "https://localhost:8080/"
        },
        "id": "3F0lBV1asej0",
        "outputId": "d6f20589-c2c1-4a8d-d4e2-75e9c6039e88"
      },
      "execution_count": 121,
      "outputs": [
        {
          "output_type": "stream",
          "name": "stdout",
          "text": [
            "+-------------------+---+----------+-------+\n",
            "|               Name|Age|Experience| Salary|\n",
            "+-------------------+---+----------+-------+\n",
            "|  Heriberto Crebott| 34|         5|1584303|\n",
            "|      Loren Gossage| 42|        15|1363913|\n",
            "|   Ruperta Le febre| 43|         9| 929016|\n",
            "|Jaquenette Ratledge| 45|        13|1622024|\n",
            "|        Becky Tiner| 38|        12|1908402|\n",
            "+-------------------+---+----------+-------+\n",
            "\n"
          ]
        }
      ]
    },
    {
      "cell_type": "code",
      "source": [
        "### all==how\n",
        "df_pyspark.na.drop(how=\"all\").show()"
      ],
      "metadata": {
        "colab": {
          "base_uri": "https://localhost:8080/"
        },
        "id": "nvJn2A_uuKXh",
        "outputId": "1db5e472-62ff-4af0-8434-a1cb0beb8130"
      },
      "execution_count": 124,
      "outputs": [
        {
          "output_type": "stream",
          "name": "stdout",
          "text": [
            "+-------------------+----+----------+-------+\n",
            "|               Name| Age|Experience| Salary|\n",
            "+-------------------+----+----------+-------+\n",
            "|  Heriberto Crebott|  34|         5|1584303|\n",
            "|      Loren Gossage|  42|        15|1363913|\n",
            "|   Ruperta Le febre|  43|         9| 929016|\n",
            "|Jaquenette Ratledge|  45|        13|1622024|\n",
            "|        Becky Tiner|  38|        12|1908402|\n",
            "|               null|  31|      null| 145214|\n",
            "|               null|  32|      null| 187452|\n",
            "|              Nitin|null|        12| 215214|\n",
            "+-------------------+----+----------+-------+\n",
            "\n"
          ]
        }
      ]
    },
    {
      "cell_type": "code",
      "source": [
        "##threshold, atleast these many non null values should be present\n",
        "df_pyspark.na.drop(how=\"any\",thresh=3).show()"
      ],
      "metadata": {
        "colab": {
          "base_uri": "https://localhost:8080/"
        },
        "id": "d8ti7kn5smaG",
        "outputId": "71a1b503-41d9-4dcb-c127-946fb30b13ed"
      },
      "execution_count": 126,
      "outputs": [
        {
          "output_type": "stream",
          "name": "stdout",
          "text": [
            "+-------------------+---+----------+-------+\n",
            "|               Name|Age|Experience| Salary|\n",
            "+-------------------+---+----------+-------+\n",
            "|  Heriberto Crebott| 34|         5|1584303|\n",
            "|      Loren Gossage| 42|        15|1363913|\n",
            "|   Ruperta Le febre| 43|         9| 929016|\n",
            "|Jaquenette Ratledge| 45|        13|1622024|\n",
            "|        Becky Tiner| 38|        12|1908402|\n",
            "+-------------------+---+----------+-------+\n",
            "\n"
          ]
        }
      ]
    },
    {
      "cell_type": "code",
      "source": [
        "##Subset - drop only values from that perticular column\n",
        "df_pyspark.na.drop(how=\"any\",subset=['Age']).show()"
      ],
      "metadata": {
        "colab": {
          "base_uri": "https://localhost:8080/"
        },
        "id": "0xx8-zazsrp2",
        "outputId": "5493b4fb-9195-4ad1-8293-5f78f210e97f"
      },
      "execution_count": 123,
      "outputs": [
        {
          "output_type": "stream",
          "name": "stdout",
          "text": [
            "+-------------------+---+----------+-------+\n",
            "|               Name|Age|Experience| Salary|\n",
            "+-------------------+---+----------+-------+\n",
            "|  Heriberto Crebott| 34|         5|1584303|\n",
            "|      Loren Gossage| 42|        15|1363913|\n",
            "|   Ruperta Le febre| 43|         9| 929016|\n",
            "|Jaquenette Ratledge| 45|        13|1622024|\n",
            "|        Becky Tiner| 38|        12|1908402|\n",
            "|               null| 31|      null| 145214|\n",
            "|               null| 32|      null| 187452|\n",
            "+-------------------+---+----------+-------+\n",
            "\n"
          ]
        }
      ]
    },
    {
      "cell_type": "code",
      "source": [
        "### Filling the Missing Value\n",
        "df_pyspark.na.fill('Missing Values',['Name','Age','Experience']).show()"
      ],
      "metadata": {
        "colab": {
          "base_uri": "https://localhost:8080/"
        },
        "id": "0A0A7P4bsvnJ",
        "outputId": "15a6bfa8-5979-4628-f3a2-53b5f1df8136"
      },
      "execution_count": 138,
      "outputs": [
        {
          "output_type": "stream",
          "name": "stdout",
          "text": [
            "+-------------------+----+----------+-------+\n",
            "|               Name| Age|Experience| Salary|\n",
            "+-------------------+----+----------+-------+\n",
            "|  Heriberto Crebott|  34|         5|1584303|\n",
            "|      Loren Gossage|  42|        15|1363913|\n",
            "|   Ruperta Le febre|  43|         9| 929016|\n",
            "|Jaquenette Ratledge|  45|        13|1622024|\n",
            "|        Becky Tiner|  38|        12|1908402|\n",
            "|     Missing Values|  31|      null| 145214|\n",
            "|     Missing Values|  32|      null| 187452|\n",
            "|              Nitin|null|        12| 215214|\n",
            "+-------------------+----+----------+-------+\n",
            "\n"
          ]
        }
      ]
    },
    {
      "cell_type": "code",
      "source": [
        "# include the mean of the column in the null cels\n",
        "from pyspark.ml.feature import Imputer\n",
        "\n",
        "imputer = Imputer(\n",
        "    inputCols=['Age', 'Experience', 'Salary'], \n",
        "    outputCols=[\"{}_imputed\".format(c) for c in ['Age', 'Experience', 'Salary']]\n",
        "    ).setStrategy(\"median\")"
      ],
      "metadata": {
        "id": "UGJgm3Z0vCSm"
      },
      "execution_count": 131,
      "outputs": []
    },
    {
      "cell_type": "code",
      "source": [
        "# Add imputation cols to df\n",
        "imputer.fit(df_pyspark).transform(df_pyspark).show()"
      ],
      "metadata": {
        "colab": {
          "base_uri": "https://localhost:8080/"
        },
        "id": "DLDfmbUBvLJX",
        "outputId": "b369c651-9fbb-40ef-e7b9-68bab705d8e4"
      },
      "execution_count": 132,
      "outputs": [
        {
          "output_type": "stream",
          "name": "stdout",
          "text": [
            "+-------------------+----+----------+-------+-----------+------------------+--------------+\n",
            "|               Name| Age|Experience| Salary|Age_imputed|Experience_imputed|Salary_imputed|\n",
            "+-------------------+----+----------+-------+-----------+------------------+--------------+\n",
            "|  Heriberto Crebott|  34|         5|1584303|         34|                 5|       1584303|\n",
            "|      Loren Gossage|  42|        15|1363913|         42|                15|       1363913|\n",
            "|   Ruperta Le febre|  43|         9| 929016|         43|                 9|        929016|\n",
            "|Jaquenette Ratledge|  45|        13|1622024|         45|                13|       1622024|\n",
            "|        Becky Tiner|  38|        12|1908402|         38|                12|       1908402|\n",
            "|               null|  31|      null| 145214|         31|                12|        145214|\n",
            "|               null|  32|      null| 187452|         32|                12|        187452|\n",
            "|              Nitin|null|        12| 215214|         38|                12|        215214|\n",
            "+-------------------+----+----------+-------+-----------+------------------+--------------+\n",
            "\n"
          ]
        }
      ]
    },
    {
      "cell_type": "markdown",
      "source": [
        "Pyspark Dataframes\n",
        "* Filter Operation\n",
        "* &,|,==\n",
        "* ~"
      ],
      "metadata": {
        "id": "Tigv7zVgw1V3"
      }
    },
    {
      "cell_type": "code",
      "source": [
        "spark=SparkSession.builder.appName('dataframe').getOrCreate()\n",
        "df_pyspark=spark.read.csv('pyspark_dummy_data3.csv',header=True,inferSchema=True)"
      ],
      "metadata": {
        "id": "8uL5n2dmw6q4"
      },
      "execution_count": 143,
      "outputs": []
    },
    {
      "cell_type": "code",
      "source": [
        "df_pyspark.show()"
      ],
      "metadata": {
        "colab": {
          "base_uri": "https://localhost:8080/"
        },
        "id": "0od-lPy_xDGc",
        "outputId": "c44a9412-e023-4a40-ec2d-f888cc4ce25e"
      },
      "execution_count": 144,
      "outputs": [
        {
          "output_type": "stream",
          "name": "stdout",
          "text": [
            "+-------------------+----+----------+-------+\n",
            "|               Name| Age|Experience| Salary|\n",
            "+-------------------+----+----------+-------+\n",
            "|  Heriberto Crebott|  34|         5|1584303|\n",
            "|      Loren Gossage|  42|        15|1363913|\n",
            "|   Ruperta Le febre|  43|         9| 929016|\n",
            "|Jaquenette Ratledge|  45|        13|1622024|\n",
            "|        Becky Tiner|  38|        12|1908402|\n",
            "|               null|  31|      null| 145214|\n",
            "|               null|  32|      null| 187452|\n",
            "|              Nitin|null|        12| 215214|\n",
            "+-------------------+----+----------+-------+\n",
            "\n"
          ]
        }
      ]
    },
    {
      "cell_type": "markdown",
      "source": [
        "# Filter Operations"
      ],
      "metadata": {
        "id": "q2fqBS8IxQgQ"
      }
    },
    {
      "cell_type": "code",
      "source": [
        "### Salary of the people less than or equal to 20000\n",
        "df_pyspark.filter(\"Salary<=1622024\").show()"
      ],
      "metadata": {
        "colab": {
          "base_uri": "https://localhost:8080/"
        },
        "id": "GDdDLxBVxEIE",
        "outputId": "fdf62db3-2478-4d14-c488-bec917f3d16d"
      },
      "execution_count": 152,
      "outputs": [
        {
          "output_type": "stream",
          "name": "stdout",
          "text": [
            "+-------------------+----+----------+-------+\n",
            "|               Name| Age|Experience| Salary|\n",
            "+-------------------+----+----------+-------+\n",
            "|  Heriberto Crebott|  34|         5|1584303|\n",
            "|      Loren Gossage|  42|        15|1363913|\n",
            "|   Ruperta Le febre|  43|         9| 929016|\n",
            "|Jaquenette Ratledge|  45|        13|1622024|\n",
            "|               null|  31|      null| 145214|\n",
            "|               null|  32|      null| 187452|\n",
            "|              Nitin|null|        12| 215214|\n",
            "+-------------------+----+----------+-------+\n",
            "\n"
          ]
        }
      ]
    },
    {
      "cell_type": "code",
      "source": [
        "# filter way 1\n",
        "df_pyspark.filter(\"Salary<=1622024\").select(['Name','age']).show()"
      ],
      "metadata": {
        "colab": {
          "base_uri": "https://localhost:8080/"
        },
        "id": "2mNSmd2NxTxi",
        "outputId": "430a91d7-6159-4315-99d7-0f308c8bd419"
      },
      "execution_count": 153,
      "outputs": [
        {
          "output_type": "stream",
          "name": "stdout",
          "text": [
            "+-------------------+----+\n",
            "|               Name| age|\n",
            "+-------------------+----+\n",
            "|  Heriberto Crebott|  34|\n",
            "|      Loren Gossage|  42|\n",
            "|   Ruperta Le febre|  43|\n",
            "|Jaquenette Ratledge|  45|\n",
            "|               null|  31|\n",
            "|               null|  32|\n",
            "|              Nitin|null|\n",
            "+-------------------+----+\n",
            "\n"
          ]
        }
      ]
    },
    {
      "cell_type": "code",
      "source": [
        "# filter way 2\n",
        "df_pyspark.filter(df_pyspark['Salary']<=1622024).show()"
      ],
      "metadata": {
        "colab": {
          "base_uri": "https://localhost:8080/"
        },
        "id": "tdh3r9MCxeAx",
        "outputId": "578ab853-53e8-45fc-bc5c-309580f7f110"
      },
      "execution_count": 154,
      "outputs": [
        {
          "output_type": "stream",
          "name": "stdout",
          "text": [
            "+-------------------+----+----------+-------+\n",
            "|               Name| Age|Experience| Salary|\n",
            "+-------------------+----+----------+-------+\n",
            "|  Heriberto Crebott|  34|         5|1584303|\n",
            "|      Loren Gossage|  42|        15|1363913|\n",
            "|   Ruperta Le febre|  43|         9| 929016|\n",
            "|Jaquenette Ratledge|  45|        13|1622024|\n",
            "|               null|  31|      null| 145214|\n",
            "|               null|  32|      null| 187452|\n",
            "|              Nitin|null|        12| 215214|\n",
            "+-------------------+----+----------+-------+\n",
            "\n"
          ]
        }
      ]
    },
    {
      "cell_type": "code",
      "source": [
        "###OR \n",
        "df_pyspark.filter((df_pyspark['Salary']<=20000) | \n",
        "                  (df_pyspark['Salary']>=15000)).show()"
      ],
      "metadata": {
        "colab": {
          "base_uri": "https://localhost:8080/"
        },
        "id": "gsMF432JxgpE",
        "outputId": "2cd15a07-d4e0-407e-85fd-5c92724e5e63"
      },
      "execution_count": 155,
      "outputs": [
        {
          "output_type": "stream",
          "name": "stdout",
          "text": [
            "+-------------------+----+----------+-------+\n",
            "|               Name| Age|Experience| Salary|\n",
            "+-------------------+----+----------+-------+\n",
            "|  Heriberto Crebott|  34|         5|1584303|\n",
            "|      Loren Gossage|  42|        15|1363913|\n",
            "|   Ruperta Le febre|  43|         9| 929016|\n",
            "|Jaquenette Ratledge|  45|        13|1622024|\n",
            "|        Becky Tiner|  38|        12|1908402|\n",
            "|               null|  31|      null| 145214|\n",
            "|               null|  32|      null| 187452|\n",
            "|              Nitin|null|        12| 215214|\n",
            "+-------------------+----+----------+-------+\n",
            "\n"
          ]
        }
      ]
    },
    {
      "cell_type": "code",
      "source": [
        "### NOT\n",
        "df_pyspark.filter(~(df_pyspark['Salary']<=20000)).show()"
      ],
      "metadata": {
        "colab": {
          "base_uri": "https://localhost:8080/"
        },
        "id": "jit4kGBwxzYU",
        "outputId": "dc08a022-9fa1-4514-fd2c-e8de8350f08e"
      },
      "execution_count": 156,
      "outputs": [
        {
          "output_type": "stream",
          "name": "stdout",
          "text": [
            "+-------------------+----+----------+-------+\n",
            "|               Name| Age|Experience| Salary|\n",
            "+-------------------+----+----------+-------+\n",
            "|  Heriberto Crebott|  34|         5|1584303|\n",
            "|      Loren Gossage|  42|        15|1363913|\n",
            "|   Ruperta Le febre|  43|         9| 929016|\n",
            "|Jaquenette Ratledge|  45|        13|1622024|\n",
            "|        Becky Tiner|  38|        12|1908402|\n",
            "|               null|  31|      null| 145214|\n",
            "|               null|  32|      null| 187452|\n",
            "|              Nitin|null|        12| 215214|\n",
            "+-------------------+----+----------+-------+\n",
            "\n"
          ]
        }
      ]
    },
    {
      "cell_type": "markdown",
      "source": [
        "# Pyspark GroupBy And Aggregate Functions"
      ],
      "metadata": {
        "id": "MYebXYOzyvul"
      }
    },
    {
      "cell_type": "code",
      "source": [
        "spark=SparkSession.builder.appName('Agg').getOrCreate()"
      ],
      "metadata": {
        "id": "XIcspXzWx-sr"
      },
      "execution_count": 157,
      "outputs": []
    },
    {
      "cell_type": "code",
      "source": [
        "spark"
      ],
      "metadata": {
        "colab": {
          "base_uri": "https://localhost:8080/",
          "height": 219
        },
        "id": "UIzLeZVAy4uQ",
        "outputId": "431e732f-d3ed-406c-bab3-529e29885083"
      },
      "execution_count": 158,
      "outputs": [
        {
          "output_type": "execute_result",
          "data": {
            "text/plain": [
              "<pyspark.sql.session.SparkSession at 0x7f9dfe1ac7d0>"
            ],
            "text/html": [
              "\n",
              "            <div>\n",
              "                <p><b>SparkSession - in-memory</b></p>\n",
              "                \n",
              "        <div>\n",
              "            <p><b>SparkContext</b></p>\n",
              "\n",
              "            <p><a href=\"http://d5d06fed5bff:4040\">Spark UI</a></p>\n",
              "\n",
              "            <dl>\n",
              "              <dt>Version</dt>\n",
              "                <dd><code>v3.2.1</code></dd>\n",
              "              <dt>Master</dt>\n",
              "                <dd><code>local[*]</code></dd>\n",
              "              <dt>AppName</dt>\n",
              "                <dd><code>Practice</code></dd>\n",
              "            </dl>\n",
              "        </div>\n",
              "        \n",
              "            </div>\n",
              "        "
            ]
          },
          "metadata": {},
          "execution_count": 158
        }
      ]
    },
    {
      "cell_type": "code",
      "source": [
        "df_pyspark.show()"
      ],
      "metadata": {
        "colab": {
          "base_uri": "https://localhost:8080/"
        },
        "id": "uDRhhP4Qy7Jl",
        "outputId": "334bcfdc-272f-409f-b5a5-39ab4a828ac6"
      },
      "execution_count": 159,
      "outputs": [
        {
          "output_type": "stream",
          "name": "stdout",
          "text": [
            "+-------------------+----+----------+-------+\n",
            "|               Name| Age|Experience| Salary|\n",
            "+-------------------+----+----------+-------+\n",
            "|  Heriberto Crebott|  34|         5|1584303|\n",
            "|      Loren Gossage|  42|        15|1363913|\n",
            "|   Ruperta Le febre|  43|         9| 929016|\n",
            "|Jaquenette Ratledge|  45|        13|1622024|\n",
            "|        Becky Tiner|  38|        12|1908402|\n",
            "|               null|  31|      null| 145214|\n",
            "|               null|  32|      null| 187452|\n",
            "|              Nitin|null|        12| 215214|\n",
            "+-------------------+----+----------+-------+\n",
            "\n"
          ]
        }
      ]
    },
    {
      "cell_type": "code",
      "source": [
        "## Groupby\n",
        "### Grouped to find the maximum salary\n",
        "df_pyspark.groupBy('Name').sum().show()"
      ],
      "metadata": {
        "colab": {
          "base_uri": "https://localhost:8080/"
        },
        "id": "IoxPhIULzBje",
        "outputId": "a442bfe1-1780-4d11-ac5e-88bb485fa4ac"
      },
      "execution_count": 160,
      "outputs": [
        {
          "output_type": "stream",
          "name": "stdout",
          "text": [
            "+-------------------+--------+---------------+-----------+\n",
            "|               Name|sum(Age)|sum(Experience)|sum(Salary)|\n",
            "+-------------------+--------+---------------+-----------+\n",
            "|   Ruperta Le febre|      43|              9|     929016|\n",
            "|               null|      63|           null|     332666|\n",
            "|  Heriberto Crebott|      34|              5|    1584303|\n",
            "|        Becky Tiner|      38|             12|    1908402|\n",
            "|      Loren Gossage|      42|             15|    1363913|\n",
            "|              Nitin|    null|             12|     215214|\n",
            "|Jaquenette Ratledge|      45|             13|    1622024|\n",
            "+-------------------+--------+---------------+-----------+\n",
            "\n"
          ]
        }
      ]
    },
    {
      "cell_type": "code",
      "source": [
        "df_pyspark.groupBy('Name').avg().show()"
      ],
      "metadata": {
        "colab": {
          "base_uri": "https://localhost:8080/"
        },
        "id": "HytUukUFzERN",
        "outputId": "dc5e311f-442e-4dc9-fa6c-d42f5c307cad"
      },
      "execution_count": 161,
      "outputs": [
        {
          "output_type": "stream",
          "name": "stdout",
          "text": [
            "+-------------------+--------+---------------+-----------+\n",
            "|               Name|avg(Age)|avg(Experience)|avg(Salary)|\n",
            "+-------------------+--------+---------------+-----------+\n",
            "|   Ruperta Le febre|    43.0|            9.0|   929016.0|\n",
            "|               null|    31.5|           null|   166333.0|\n",
            "|  Heriberto Crebott|    34.0|            5.0|  1584303.0|\n",
            "|        Becky Tiner|    38.0|           12.0|  1908402.0|\n",
            "|      Loren Gossage|    42.0|           15.0|  1363913.0|\n",
            "|              Nitin|    null|           12.0|   215214.0|\n",
            "|Jaquenette Ratledge|    45.0|           13.0|  1622024.0|\n",
            "+-------------------+--------+---------------+-----------+\n",
            "\n"
          ]
        }
      ]
    },
    {
      "cell_type": "code",
      "source": [
        "### Groupby Experience  which gives maximum salary\n",
        "df_pyspark.groupBy('Experience').sum().show()"
      ],
      "metadata": {
        "colab": {
          "base_uri": "https://localhost:8080/"
        },
        "id": "Xi_zSmHbzNWu",
        "outputId": "50235e2b-efc9-4fb4-df08-ea3a41b03aec"
      },
      "execution_count": 162,
      "outputs": [
        {
          "output_type": "stream",
          "name": "stdout",
          "text": [
            "+----------+--------+---------------+-----------+\n",
            "|Experience|sum(Age)|sum(Experience)|sum(Salary)|\n",
            "+----------+--------+---------------+-----------+\n",
            "|        12|      38|             24|    2123616|\n",
            "|      null|      63|           null|     332666|\n",
            "|        13|      45|             13|    1622024|\n",
            "|         5|      34|              5|    1584303|\n",
            "|        15|      42|             15|    1363913|\n",
            "|         9|      43|              9|     929016|\n",
            "+----------+--------+---------------+-----------+\n",
            "\n"
          ]
        }
      ]
    },
    {
      "cell_type": "code",
      "source": [
        "df_pyspark.groupBy('Experience').mean().show()"
      ],
      "metadata": {
        "colab": {
          "base_uri": "https://localhost:8080/"
        },
        "id": "8SevJANlzVuC",
        "outputId": "a5874366-24a1-4091-e66c-06c8dfa609eb"
      },
      "execution_count": 163,
      "outputs": [
        {
          "output_type": "stream",
          "name": "stdout",
          "text": [
            "+----------+--------+---------------+-----------+\n",
            "|Experience|avg(Age)|avg(Experience)|avg(Salary)|\n",
            "+----------+--------+---------------+-----------+\n",
            "|        12|    38.0|           12.0|  1061808.0|\n",
            "|      null|    31.5|           null|   166333.0|\n",
            "|        13|    45.0|           13.0|  1622024.0|\n",
            "|         5|    34.0|            5.0|  1584303.0|\n",
            "|        15|    42.0|           15.0|  1363913.0|\n",
            "|         9|    43.0|            9.0|   929016.0|\n",
            "+----------+--------+---------------+-----------+\n",
            "\n"
          ]
        }
      ]
    },
    {
      "cell_type": "code",
      "source": [
        "df_pyspark.groupBy('Experience').count().show()"
      ],
      "metadata": {
        "colab": {
          "base_uri": "https://localhost:8080/"
        },
        "id": "ErHh1yL8zcK5",
        "outputId": "e2c2de8b-ec18-49d5-d27e-91ce8b92ba05"
      },
      "execution_count": 164,
      "outputs": [
        {
          "output_type": "stream",
          "name": "stdout",
          "text": [
            "+----------+-----+\n",
            "|Experience|count|\n",
            "+----------+-----+\n",
            "|        12|    2|\n",
            "|      null|    2|\n",
            "|        13|    1|\n",
            "|         5|    1|\n",
            "|        15|    1|\n",
            "|         9|    1|\n",
            "+----------+-----+\n",
            "\n"
          ]
        }
      ]
    },
    {
      "cell_type": "code",
      "source": [
        "df_pyspark.agg({'Salary':'sum'}).show()"
      ],
      "metadata": {
        "colab": {
          "base_uri": "https://localhost:8080/"
        },
        "id": "eJfnely9zhxG",
        "outputId": "ea1c78af-b9cf-402d-94c5-24e4418d579b"
      },
      "execution_count": 165,
      "outputs": [
        {
          "output_type": "stream",
          "name": "stdout",
          "text": [
            "+-----------+\n",
            "|sum(Salary)|\n",
            "+-----------+\n",
            "|    7955538|\n",
            "+-----------+\n",
            "\n"
          ]
        }
      ]
    },
    {
      "cell_type": "markdown",
      "source": [
        "# Examples Of Pyspark ML"
      ],
      "metadata": {
        "id": "9ENNFswCztLG"
      }
    },
    {
      "cell_type": "code",
      "source": [
        "spark=SparkSession.builder.appName('Missing').getOrCreate()"
      ],
      "metadata": {
        "id": "r119RaRTzjs5"
      },
      "execution_count": 166,
      "outputs": []
    },
    {
      "cell_type": "code",
      "source": [
        "## Read The dataset\n",
        "training = spark.read.csv('pyspark_dummy_data4.csv',header=True,inferSchema=True)"
      ],
      "metadata": {
        "id": "pKnCL4UBzwkI"
      },
      "execution_count": 179,
      "outputs": []
    },
    {
      "cell_type": "code",
      "source": [
        "training.show()"
      ],
      "metadata": {
        "colab": {
          "base_uri": "https://localhost:8080/"
        },
        "id": "bPLh20Rgz41j",
        "outputId": "cd1913d4-116d-4f4b-eecf-b9ae64fc352a"
      },
      "execution_count": 180,
      "outputs": [
        {
          "output_type": "stream",
          "name": "stdout",
          "text": [
            "+-------------------+---+----------+-------+\n",
            "|               Name|Age|Experience| Salary|\n",
            "+-------------------+---+----------+-------+\n",
            "|  Heriberto Crebott| 34|         5|1584303|\n",
            "|      Loren Gossage| 42|        15|1363913|\n",
            "|   Ruperta Le febre| 43|         9| 929016|\n",
            "|Jaquenette Ratledge| 45|        13|1622024|\n",
            "|        Becky Tiner| 38|        12|1908402|\n",
            "+-------------------+---+----------+-------+\n",
            "\n"
          ]
        }
      ]
    },
    {
      "cell_type": "code",
      "source": [
        "training.columns"
      ],
      "metadata": {
        "colab": {
          "base_uri": "https://localhost:8080/"
        },
        "id": "cHk_SVfMz5By",
        "outputId": "84e2e059-75b5-4310-bcbb-64fc8e3bbc0e"
      },
      "execution_count": 181,
      "outputs": [
        {
          "output_type": "execute_result",
          "data": {
            "text/plain": [
              "['Name', 'Age', 'Experience', 'Salary']"
            ]
          },
          "metadata": {},
          "execution_count": 181
        }
      ]
    },
    {
      "cell_type": "code",
      "source": [
        "# [Age,Experience]----> new feature--->independent feature\n",
        "from pyspark.ml.feature import VectorAssembler\n",
        "featureassembler=VectorAssembler(inputCols=[\"Age\",\"Experience\"],outputCol=\"Independent Features\")"
      ],
      "metadata": {
        "id": "EUd_08zcz7Je"
      },
      "execution_count": 182,
      "outputs": []
    },
    {
      "cell_type": "code",
      "source": [
        "output=featureassembler.transform(training)"
      ],
      "metadata": {
        "id": "YVOItFXHz9QL"
      },
      "execution_count": 183,
      "outputs": []
    },
    {
      "cell_type": "code",
      "source": [
        "output.show()"
      ],
      "metadata": {
        "colab": {
          "base_uri": "https://localhost:8080/"
        },
        "id": "xLHqu0gN0Fl7",
        "outputId": "6ea6ddaf-6dc6-49cf-d450-6a807d7a713c"
      },
      "execution_count": 184,
      "outputs": [
        {
          "output_type": "stream",
          "name": "stdout",
          "text": [
            "+-------------------+---+----------+-------+--------------------+\n",
            "|               Name|Age|Experience| Salary|Independent Features|\n",
            "+-------------------+---+----------+-------+--------------------+\n",
            "|  Heriberto Crebott| 34|         5|1584303|          [34.0,5.0]|\n",
            "|      Loren Gossage| 42|        15|1363913|         [42.0,15.0]|\n",
            "|   Ruperta Le febre| 43|         9| 929016|          [43.0,9.0]|\n",
            "|Jaquenette Ratledge| 45|        13|1622024|         [45.0,13.0]|\n",
            "|        Becky Tiner| 38|        12|1908402|         [38.0,12.0]|\n",
            "+-------------------+---+----------+-------+--------------------+\n",
            "\n"
          ]
        }
      ]
    },
    {
      "cell_type": "code",
      "source": [
        "output.columns"
      ],
      "metadata": {
        "colab": {
          "base_uri": "https://localhost:8080/"
        },
        "id": "xRTF494H0Gqx",
        "outputId": "301b20a1-d79c-48ce-a425-5d2263333081"
      },
      "execution_count": 185,
      "outputs": [
        {
          "output_type": "execute_result",
          "data": {
            "text/plain": [
              "['Name', 'Age', 'Experience', 'Salary', 'Independent Features']"
            ]
          },
          "metadata": {},
          "execution_count": 185
        }
      ]
    },
    {
      "cell_type": "code",
      "source": [
        "finalized_data=output.select(\"Independent Features\",\"Salary\")"
      ],
      "metadata": {
        "id": "4scucUxn02EZ"
      },
      "execution_count": 186,
      "outputs": []
    },
    {
      "cell_type": "code",
      "source": [
        "finalized_data.show()"
      ],
      "metadata": {
        "colab": {
          "base_uri": "https://localhost:8080/"
        },
        "id": "smObVv0K04EN",
        "outputId": "0ae16895-afd8-46bc-ee80-98910eeaadaf"
      },
      "execution_count": 187,
      "outputs": [
        {
          "output_type": "stream",
          "name": "stdout",
          "text": [
            "+--------------------+-------+\n",
            "|Independent Features| Salary|\n",
            "+--------------------+-------+\n",
            "|          [34.0,5.0]|1584303|\n",
            "|         [42.0,15.0]|1363913|\n",
            "|          [43.0,9.0]| 929016|\n",
            "|         [45.0,13.0]|1622024|\n",
            "|         [38.0,12.0]|1908402|\n",
            "+--------------------+-------+\n",
            "\n"
          ]
        }
      ]
    },
    {
      "cell_type": "code",
      "source": [
        "from pyspark.ml.regression import LinearRegression\n",
        "##train test split\n",
        "train_data,test_data=finalized_data.randomSplit([0.75,0.25])\n",
        "regressor=LinearRegression(featuresCol='Independent Features', labelCol='Salary')\n",
        "regressor=regressor.fit(train_data)"
      ],
      "metadata": {
        "id": "Hie6Y9uq05Yq"
      },
      "execution_count": 188,
      "outputs": []
    },
    {
      "cell_type": "code",
      "source": [
        "### Coefficients\n",
        "regressor.coefficients"
      ],
      "metadata": {
        "colab": {
          "base_uri": "https://localhost:8080/"
        },
        "id": "n1mbqt420-4g",
        "outputId": "1b5fb53b-ac43-494b-fec9-f851afe03463"
      },
      "execution_count": 189,
      "outputs": [
        {
          "output_type": "execute_result",
          "data": {
            "text/plain": [
              "DenseVector([-52575.8405, 46004.5767])"
            ]
          },
          "metadata": {},
          "execution_count": 189
        }
      ]
    },
    {
      "cell_type": "code",
      "source": [
        "### Intercepts\n",
        "regressor.intercept"
      ],
      "metadata": {
        "colab": {
          "base_uri": "https://localhost:8080/"
        },
        "id": "C0e1b7gF0_Ry",
        "outputId": "e21425d5-e40a-4c50-cad3-1286d0003823"
      },
      "execution_count": 190,
      "outputs": [
        {
          "output_type": "execute_result",
          "data": {
            "text/plain": [
              "3047375.404907999"
            ]
          },
          "metadata": {},
          "execution_count": 190
        }
      ]
    },
    {
      "cell_type": "code",
      "source": [
        "### Prediction\n",
        "pred_results=regressor.evaluate(test_data)"
      ],
      "metadata": {
        "id": "oNWxMK5_1A3B"
      },
      "execution_count": 191,
      "outputs": []
    },
    {
      "cell_type": "code",
      "source": [
        "pred_results.predictions.show()"
      ],
      "metadata": {
        "colab": {
          "base_uri": "https://localhost:8080/"
        },
        "id": "nA_GMRLa1CFm",
        "outputId": "57a6b132-27e0-4ed3-8273-06a1c40c5266"
      },
      "execution_count": 192,
      "outputs": [
        {
          "output_type": "stream",
          "name": "stdout",
          "text": [
            "+--------------------+-------+------------------+\n",
            "|Independent Features| Salary|        prediction|\n",
            "+--------------------+-------+------------------+\n",
            "|         [38.0,12.0]|1908402|1601548.3865030692|\n",
            "+--------------------+-------+------------------+\n",
            "\n"
          ]
        },
        {
          "output_type": "stream",
          "name": "stderr",
          "text": [
            "/usr/local/lib/python3.7/dist-packages/pyspark/sql/context.py:127: FutureWarning: Deprecated in 3.0.0. Use SparkSession.builder.getOrCreate() instead.\n",
            "  FutureWarning\n"
          ]
        }
      ]
    },
    {
      "cell_type": "code",
      "source": [
        "pred_results.meanAbsoluteError,pred_results.meanSquaredError"
      ],
      "metadata": {
        "colab": {
          "base_uri": "https://localhost:8080/"
        },
        "id": "5VludxEJ1DJC",
        "outputId": "9fc1e4e8-a3af-4c08-e07b-ce21f346eba5"
      },
      "execution_count": 193,
      "outputs": [
        {
          "output_type": "execute_result",
          "data": {
            "text/plain": [
              "(306853.6134969308, 94159140116.1238)"
            ]
          },
          "metadata": {},
          "execution_count": 193
        }
      ]
    },
    {
      "cell_type": "markdown",
      "source": [
        "# Overview\n",
        "\n",
        "This notebook will show you how to create and query a table or DataFrame that you uploaded to DBFS. DBFS is a Databricks File System that allows you to store data for querying inside of Databricks. This notebook assumes that you have a file already inside of DBFS that you would like to read from."
      ],
      "metadata": {
        "id": "k8qzDGN22QYu"
      }
    },
    {
      "cell_type": "code",
      "source": [
        "# File location and type\n",
        "file_location = \"tips.csv\"\n",
        "\n",
        "# The applied options are for CSV files. For other file types, these will be ignored.\n",
        "df =spark.read.csv(file_location,header=True,inferSchema=True)\n",
        "df.show()"
      ],
      "metadata": {
        "colab": {
          "base_uri": "https://localhost:8080/"
        },
        "id": "4KANPtKU1FCg",
        "outputId": "a44e890f-34ab-47bd-cb98-1c8dcc53d04c"
      },
      "execution_count": 198,
      "outputs": [
        {
          "output_type": "stream",
          "name": "stdout",
          "text": [
            "+----------+----+------+------+---+------+----+\n",
            "|total_bill| tip|   sex|smoker|day|  time|size|\n",
            "+----------+----+------+------+---+------+----+\n",
            "|     16.99|1.01|Female|    No|Sun|Dinner|   2|\n",
            "|     10.34|1.66|  Male|    No|Sun|Dinner|   3|\n",
            "|     21.01| 3.5|  Male|    No|Sun|Dinner|   3|\n",
            "|     23.68|3.31|  Male|    No|Sun|Dinner|   2|\n",
            "|     24.59|3.61|Female|    No|Sun|Dinner|   4|\n",
            "|     25.29|4.71|  Male|    No|Sun|Dinner|   4|\n",
            "|      8.77| 2.0|  Male|    No|Sun|Dinner|   2|\n",
            "|     26.88|3.12|  Male|    No|Sun|Dinner|   4|\n",
            "|     15.04|1.96|  Male|    No|Sun|Dinner|   2|\n",
            "|     14.78|3.23|  Male|    No|Sun|Dinner|   2|\n",
            "|     10.27|1.71|  Male|    No|Sun|Dinner|   2|\n",
            "|     35.26| 5.0|Female|    No|Sun|Dinner|   4|\n",
            "|     15.42|1.57|  Male|    No|Sun|Dinner|   2|\n",
            "|     18.43| 3.0|  Male|    No|Sun|Dinner|   4|\n",
            "|     14.83|3.02|Female|    No|Sun|Dinner|   2|\n",
            "|     21.58|3.92|  Male|    No|Sun|Dinner|   2|\n",
            "|     10.33|1.67|Female|    No|Sun|Dinner|   3|\n",
            "|     16.29|3.71|  Male|    No|Sun|Dinner|   3|\n",
            "|     16.97| 3.5|Female|    No|Sun|Dinner|   3|\n",
            "|     20.65|3.35|  Male|    No|Sat|Dinner|   3|\n",
            "+----------+----+------+------+---+------+----+\n",
            "only showing top 20 rows\n",
            "\n"
          ]
        }
      ]
    },
    {
      "cell_type": "code",
      "source": [
        "### Handling Categorical Features\n",
        "from pyspark.ml.feature import StringIndexer"
      ],
      "metadata": {
        "id": "9nnCLyqP2WYW"
      },
      "execution_count": 195,
      "outputs": []
    },
    {
      "cell_type": "code",
      "source": [
        "df.show()"
      ],
      "metadata": {
        "colab": {
          "base_uri": "https://localhost:8080/"
        },
        "id": "OoANF8UL2cYg",
        "outputId": "c72bf495-cc94-4477-c9c4-8beb1355a8a5"
      },
      "execution_count": 196,
      "outputs": [
        {
          "output_type": "stream",
          "name": "stdout",
          "text": [
            "+----------+----+------+------+---+------+----+\n",
            "|total_bill| tip|   sex|smoker|day|  time|size|\n",
            "+----------+----+------+------+---+------+----+\n",
            "|     16.99|1.01|Female|    No|Sun|Dinner|   2|\n",
            "|     10.34|1.66|  Male|    No|Sun|Dinner|   3|\n",
            "|     21.01| 3.5|  Male|    No|Sun|Dinner|   3|\n",
            "|     23.68|3.31|  Male|    No|Sun|Dinner|   2|\n",
            "|     24.59|3.61|Female|    No|Sun|Dinner|   4|\n",
            "|     25.29|4.71|  Male|    No|Sun|Dinner|   4|\n",
            "|      8.77| 2.0|  Male|    No|Sun|Dinner|   2|\n",
            "|     26.88|3.12|  Male|    No|Sun|Dinner|   4|\n",
            "|     15.04|1.96|  Male|    No|Sun|Dinner|   2|\n",
            "|     14.78|3.23|  Male|    No|Sun|Dinner|   2|\n",
            "|     10.27|1.71|  Male|    No|Sun|Dinner|   2|\n",
            "|     35.26| 5.0|Female|    No|Sun|Dinner|   4|\n",
            "|     15.42|1.57|  Male|    No|Sun|Dinner|   2|\n",
            "|     18.43| 3.0|  Male|    No|Sun|Dinner|   4|\n",
            "|     14.83|3.02|Female|    No|Sun|Dinner|   2|\n",
            "|     21.58|3.92|  Male|    No|Sun|Dinner|   2|\n",
            "|     10.33|1.67|Female|    No|Sun|Dinner|   3|\n",
            "|     16.29|3.71|  Male|    No|Sun|Dinner|   3|\n",
            "|     16.97| 3.5|Female|    No|Sun|Dinner|   3|\n",
            "|     20.65|3.35|  Male|    No|Sat|Dinner|   3|\n",
            "+----------+----+------+------+---+------+----+\n",
            "only showing top 20 rows\n",
            "\n"
          ]
        }
      ]
    },
    {
      "cell_type": "code",
      "source": [
        "indexer=StringIndexer(inputCols=[\"sex\",\"smoker\",\"day\",\"time\"],outputCols=[\"sex_indexed\",\"smoker_indexed\",\"day_indexed\",\"time_indexed\"])\n",
        "df_r=indexer.fit(df).transform(df)\n",
        "df_r.show()"
      ],
      "metadata": {
        "colab": {
          "base_uri": "https://localhost:8080/"
        },
        "id": "IZUW_xv42dvE",
        "outputId": "fc7a62a2-0c92-4fd6-b02d-911b17db7709"
      },
      "execution_count": 200,
      "outputs": [
        {
          "output_type": "stream",
          "name": "stdout",
          "text": [
            "+----------+----+------+------+---+------+----+-----------+--------------+-----------+------------+\n",
            "|total_bill| tip|   sex|smoker|day|  time|size|sex_indexed|smoker_indexed|day_indexed|time_indexed|\n",
            "+----------+----+------+------+---+------+----+-----------+--------------+-----------+------------+\n",
            "|     16.99|1.01|Female|    No|Sun|Dinner|   2|        1.0|           0.0|        1.0|         0.0|\n",
            "|     10.34|1.66|  Male|    No|Sun|Dinner|   3|        0.0|           0.0|        1.0|         0.0|\n",
            "|     21.01| 3.5|  Male|    No|Sun|Dinner|   3|        0.0|           0.0|        1.0|         0.0|\n",
            "|     23.68|3.31|  Male|    No|Sun|Dinner|   2|        0.0|           0.0|        1.0|         0.0|\n",
            "|     24.59|3.61|Female|    No|Sun|Dinner|   4|        1.0|           0.0|        1.0|         0.0|\n",
            "|     25.29|4.71|  Male|    No|Sun|Dinner|   4|        0.0|           0.0|        1.0|         0.0|\n",
            "|      8.77| 2.0|  Male|    No|Sun|Dinner|   2|        0.0|           0.0|        1.0|         0.0|\n",
            "|     26.88|3.12|  Male|    No|Sun|Dinner|   4|        0.0|           0.0|        1.0|         0.0|\n",
            "|     15.04|1.96|  Male|    No|Sun|Dinner|   2|        0.0|           0.0|        1.0|         0.0|\n",
            "|     14.78|3.23|  Male|    No|Sun|Dinner|   2|        0.0|           0.0|        1.0|         0.0|\n",
            "|     10.27|1.71|  Male|    No|Sun|Dinner|   2|        0.0|           0.0|        1.0|         0.0|\n",
            "|     35.26| 5.0|Female|    No|Sun|Dinner|   4|        1.0|           0.0|        1.0|         0.0|\n",
            "|     15.42|1.57|  Male|    No|Sun|Dinner|   2|        0.0|           0.0|        1.0|         0.0|\n",
            "|     18.43| 3.0|  Male|    No|Sun|Dinner|   4|        0.0|           0.0|        1.0|         0.0|\n",
            "|     14.83|3.02|Female|    No|Sun|Dinner|   2|        1.0|           0.0|        1.0|         0.0|\n",
            "|     21.58|3.92|  Male|    No|Sun|Dinner|   2|        0.0|           0.0|        1.0|         0.0|\n",
            "|     10.33|1.67|Female|    No|Sun|Dinner|   3|        1.0|           0.0|        1.0|         0.0|\n",
            "|     16.29|3.71|  Male|    No|Sun|Dinner|   3|        0.0|           0.0|        1.0|         0.0|\n",
            "|     16.97| 3.5|Female|    No|Sun|Dinner|   3|        1.0|           0.0|        1.0|         0.0|\n",
            "|     20.65|3.35|  Male|    No|Sat|Dinner|   3|        0.0|           0.0|        0.0|         0.0|\n",
            "+----------+----+------+------+---+------+----+-----------+--------------+-----------+------------+\n",
            "only showing top 20 rows\n",
            "\n"
          ]
        }
      ]
    },
    {
      "cell_type": "code",
      "source": [
        "from pyspark.ml.feature import VectorAssembler\n",
        "featureassembler=VectorAssembler(inputCols=['tip','size','sex_indexed','smoker_indexed','day_indexed',\n",
        "                          'time_indexed'],outputCol=\"Independent Features\")\n",
        "output=featureassembler.transform(df_r)\n",
        "output.select('Independent Features').show()"
      ],
      "metadata": {
        "colab": {
          "base_uri": "https://localhost:8080/"
        },
        "id": "dpU2DUEP2gSB",
        "outputId": "2f7c473f-e393-4b7b-b664-e961e47cf60a"
      },
      "execution_count": 202,
      "outputs": [
        {
          "output_type": "stream",
          "name": "stdout",
          "text": [
            "+--------------------+\n",
            "|Independent Features|\n",
            "+--------------------+\n",
            "|[1.01,2.0,1.0,0.0...|\n",
            "|[1.66,3.0,0.0,0.0...|\n",
            "|[3.5,3.0,0.0,0.0,...|\n",
            "|[3.31,2.0,0.0,0.0...|\n",
            "|[3.61,4.0,1.0,0.0...|\n",
            "|[4.71,4.0,0.0,0.0...|\n",
            "|[2.0,2.0,0.0,0.0,...|\n",
            "|[3.12,4.0,0.0,0.0...|\n",
            "|[1.96,2.0,0.0,0.0...|\n",
            "|[3.23,2.0,0.0,0.0...|\n",
            "|[1.71,2.0,0.0,0.0...|\n",
            "|[5.0,4.0,1.0,0.0,...|\n",
            "|[1.57,2.0,0.0,0.0...|\n",
            "|[3.0,4.0,0.0,0.0,...|\n",
            "|[3.02,2.0,1.0,0.0...|\n",
            "|[3.92,2.0,0.0,0.0...|\n",
            "|[1.67,3.0,1.0,0.0...|\n",
            "|[3.71,3.0,0.0,0.0...|\n",
            "|[3.5,3.0,1.0,0.0,...|\n",
            "|(6,[0,1],[3.35,3.0])|\n",
            "+--------------------+\n",
            "only showing top 20 rows\n",
            "\n"
          ]
        }
      ]
    },
    {
      "cell_type": "code",
      "source": [
        "output.show()"
      ],
      "metadata": {
        "colab": {
          "base_uri": "https://localhost:8080/"
        },
        "id": "05jHQFbT4egE",
        "outputId": "6979bcdb-e484-4d09-da3a-df23c266a091"
      },
      "execution_count": 203,
      "outputs": [
        {
          "output_type": "stream",
          "name": "stdout",
          "text": [
            "+----------+----+------+------+---+------+----+-----------+--------------+-----------+------------+--------------------+\n",
            "|total_bill| tip|   sex|smoker|day|  time|size|sex_indexed|smoker_indexed|day_indexed|time_indexed|Independent Features|\n",
            "+----------+----+------+------+---+------+----+-----------+--------------+-----------+------------+--------------------+\n",
            "|     16.99|1.01|Female|    No|Sun|Dinner|   2|        1.0|           0.0|        1.0|         0.0|[1.01,2.0,1.0,0.0...|\n",
            "|     10.34|1.66|  Male|    No|Sun|Dinner|   3|        0.0|           0.0|        1.0|         0.0|[1.66,3.0,0.0,0.0...|\n",
            "|     21.01| 3.5|  Male|    No|Sun|Dinner|   3|        0.0|           0.0|        1.0|         0.0|[3.5,3.0,0.0,0.0,...|\n",
            "|     23.68|3.31|  Male|    No|Sun|Dinner|   2|        0.0|           0.0|        1.0|         0.0|[3.31,2.0,0.0,0.0...|\n",
            "|     24.59|3.61|Female|    No|Sun|Dinner|   4|        1.0|           0.0|        1.0|         0.0|[3.61,4.0,1.0,0.0...|\n",
            "|     25.29|4.71|  Male|    No|Sun|Dinner|   4|        0.0|           0.0|        1.0|         0.0|[4.71,4.0,0.0,0.0...|\n",
            "|      8.77| 2.0|  Male|    No|Sun|Dinner|   2|        0.0|           0.0|        1.0|         0.0|[2.0,2.0,0.0,0.0,...|\n",
            "|     26.88|3.12|  Male|    No|Sun|Dinner|   4|        0.0|           0.0|        1.0|         0.0|[3.12,4.0,0.0,0.0...|\n",
            "|     15.04|1.96|  Male|    No|Sun|Dinner|   2|        0.0|           0.0|        1.0|         0.0|[1.96,2.0,0.0,0.0...|\n",
            "|     14.78|3.23|  Male|    No|Sun|Dinner|   2|        0.0|           0.0|        1.0|         0.0|[3.23,2.0,0.0,0.0...|\n",
            "|     10.27|1.71|  Male|    No|Sun|Dinner|   2|        0.0|           0.0|        1.0|         0.0|[1.71,2.0,0.0,0.0...|\n",
            "|     35.26| 5.0|Female|    No|Sun|Dinner|   4|        1.0|           0.0|        1.0|         0.0|[5.0,4.0,1.0,0.0,...|\n",
            "|     15.42|1.57|  Male|    No|Sun|Dinner|   2|        0.0|           0.0|        1.0|         0.0|[1.57,2.0,0.0,0.0...|\n",
            "|     18.43| 3.0|  Male|    No|Sun|Dinner|   4|        0.0|           0.0|        1.0|         0.0|[3.0,4.0,0.0,0.0,...|\n",
            "|     14.83|3.02|Female|    No|Sun|Dinner|   2|        1.0|           0.0|        1.0|         0.0|[3.02,2.0,1.0,0.0...|\n",
            "|     21.58|3.92|  Male|    No|Sun|Dinner|   2|        0.0|           0.0|        1.0|         0.0|[3.92,2.0,0.0,0.0...|\n",
            "|     10.33|1.67|Female|    No|Sun|Dinner|   3|        1.0|           0.0|        1.0|         0.0|[1.67,3.0,1.0,0.0...|\n",
            "|     16.29|3.71|  Male|    No|Sun|Dinner|   3|        0.0|           0.0|        1.0|         0.0|[3.71,3.0,0.0,0.0...|\n",
            "|     16.97| 3.5|Female|    No|Sun|Dinner|   3|        1.0|           0.0|        1.0|         0.0|[3.5,3.0,1.0,0.0,...|\n",
            "|     20.65|3.35|  Male|    No|Sat|Dinner|   3|        0.0|           0.0|        0.0|         0.0|(6,[0,1],[3.35,3.0])|\n",
            "+----------+----+------+------+---+------+----+-----------+--------------+-----------+------------+--------------------+\n",
            "only showing top 20 rows\n",
            "\n"
          ]
        }
      ]
    },
    {
      "cell_type": "code",
      "source": [
        "finalized_data=output.select(\"Independent Features\",\"total_bill\")"
      ],
      "metadata": {
        "id": "DoVZDFW54piM"
      },
      "execution_count": 204,
      "outputs": []
    },
    {
      "cell_type": "code",
      "source": [
        "finalized_data.show()"
      ],
      "metadata": {
        "colab": {
          "base_uri": "https://localhost:8080/"
        },
        "id": "L5C3WEQb4sdV",
        "outputId": "14b08957-08e3-4dbd-dae5-987917ed4064"
      },
      "execution_count": 205,
      "outputs": [
        {
          "output_type": "stream",
          "name": "stdout",
          "text": [
            "+--------------------+----------+\n",
            "|Independent Features|total_bill|\n",
            "+--------------------+----------+\n",
            "|[1.01,2.0,1.0,0.0...|     16.99|\n",
            "|[1.66,3.0,0.0,0.0...|     10.34|\n",
            "|[3.5,3.0,0.0,0.0,...|     21.01|\n",
            "|[3.31,2.0,0.0,0.0...|     23.68|\n",
            "|[3.61,4.0,1.0,0.0...|     24.59|\n",
            "|[4.71,4.0,0.0,0.0...|     25.29|\n",
            "|[2.0,2.0,0.0,0.0,...|      8.77|\n",
            "|[3.12,4.0,0.0,0.0...|     26.88|\n",
            "|[1.96,2.0,0.0,0.0...|     15.04|\n",
            "|[3.23,2.0,0.0,0.0...|     14.78|\n",
            "|[1.71,2.0,0.0,0.0...|     10.27|\n",
            "|[5.0,4.0,1.0,0.0,...|     35.26|\n",
            "|[1.57,2.0,0.0,0.0...|     15.42|\n",
            "|[3.0,4.0,0.0,0.0,...|     18.43|\n",
            "|[3.02,2.0,1.0,0.0...|     14.83|\n",
            "|[3.92,2.0,0.0,0.0...|     21.58|\n",
            "|[1.67,3.0,1.0,0.0...|     10.33|\n",
            "|[3.71,3.0,0.0,0.0...|     16.29|\n",
            "|[3.5,3.0,1.0,0.0,...|     16.97|\n",
            "|(6,[0,1],[3.35,3.0])|     20.65|\n",
            "+--------------------+----------+\n",
            "only showing top 20 rows\n",
            "\n"
          ]
        }
      ]
    },
    {
      "cell_type": "code",
      "source": [
        "from pyspark.ml.regression import LinearRegression\n",
        "##train test split\n",
        "train_data,test_data=finalized_data.randomSplit([0.75,0.25])\n",
        "regressor=LinearRegression(featuresCol='Independent Features', labelCol='total_bill')\n",
        "regressor=regressor.fit(train_data)"
      ],
      "metadata": {
        "id": "4jo5kWlu4ucH"
      },
      "execution_count": 206,
      "outputs": []
    },
    {
      "cell_type": "code",
      "source": [
        "regressor.coefficients"
      ],
      "metadata": {
        "colab": {
          "base_uri": "https://localhost:8080/"
        },
        "id": "IVmHC50I4z39",
        "outputId": "f2a4156d-ce2c-4a34-97e8-14b6f35c026c"
      },
      "execution_count": 207,
      "outputs": [
        {
          "output_type": "execute_result",
          "data": {
            "text/plain": [
              "DenseVector([3.3106, 3.5275, -1.1343, 1.5127, -0.1956, -0.7129])"
            ]
          },
          "metadata": {},
          "execution_count": 207
        }
      ]
    },
    {
      "cell_type": "code",
      "source": [
        "regressor.intercept"
      ],
      "metadata": {
        "colab": {
          "base_uri": "https://localhost:8080/"
        },
        "id": "GHwQqWyV41r8",
        "outputId": "668b33e4-c31d-4358-cfb1-bd9303e23ccb"
      },
      "execution_count": 208,
      "outputs": [
        {
          "output_type": "execute_result",
          "data": {
            "text/plain": [
              "0.6727496839867498"
            ]
          },
          "metadata": {},
          "execution_count": 208
        }
      ]
    },
    {
      "cell_type": "code",
      "source": [
        "### Predictions\n",
        "pred_results=regressor.evaluate(test_data)"
      ],
      "metadata": {
        "id": "ybEmzT1T42-C"
      },
      "execution_count": 209,
      "outputs": []
    },
    {
      "cell_type": "code",
      "source": [
        "## Final comparison\n",
        "pred_results.predictions.show()"
      ],
      "metadata": {
        "colab": {
          "base_uri": "https://localhost:8080/"
        },
        "id": "gLDE68WX444m",
        "outputId": "304b8b09-2cb4-49ae-f38b-0e68a9e36698"
      },
      "execution_count": 210,
      "outputs": [
        {
          "output_type": "stream",
          "name": "stdout",
          "text": [
            "+--------------------+----------+------------------+\n",
            "|Independent Features|total_bill|        prediction|\n",
            "+--------------------+----------+------------------+\n",
            "|(6,[0,1],[1.25,2.0])|     10.07|11.866009517738805|\n",
            "|(6,[0,1],[1.25,2.0])|     10.51|11.866009517738805|\n",
            "|(6,[0,1],[1.97,2.0])|     12.02|14.249637581392172|\n",
            "| (6,[0,1],[2.0,3.0])|     16.31|17.876463751221323|\n",
            "|(6,[0,1],[2.01,2.0])|     20.23|14.382061362706247|\n",
            "|(6,[0,1],[2.31,3.0])|     18.69| 18.90274805640541|\n",
            "|(6,[0,1],[3.39,2.0])|     11.61|18.950681818041872|\n",
            "|[1.01,2.0,1.0,0.0...|     16.99| 9.741626751863736|\n",
            "|[1.25,2.0,1.0,0.0...|      8.51| 9.627716587278394|\n",
            "|[1.48,2.0,0.0,0.0...|      8.52|11.523417845458495|\n",
            "|[1.5,2.0,0.0,1.0,...|     15.69|14.010742459854374|\n",
            "|[1.5,2.0,1.0,0.0,...|     10.65|10.455365220491368|\n",
            "|[1.68,2.0,1.0,0.0...|     13.42|11.051272236404712|\n",
            "|[2.0,2.0,0.0,0.0,...|     13.13|14.153379855011279|\n",
            "|[2.0,2.0,0.0,1.0,...|     13.81|15.861615288646775|\n",
            "|[2.0,2.0,1.0,0.0,...|     10.33|12.110662486917319|\n",
            "|[2.0,2.0,1.0,0.0,...|     12.26|12.110662486917319|\n",
            "|[2.0,2.0,1.0,0.0,...|     14.15|12.110662486917319|\n",
            "|[2.0,2.0,1.0,1.0,...|     10.09|13.427746795819914|\n",
            "|[2.0,3.0,0.0,1.0,...|     30.06|19.389123622490366|\n",
            "+--------------------+----------+------------------+\n",
            "only showing top 20 rows\n",
            "\n"
          ]
        },
        {
          "output_type": "stream",
          "name": "stderr",
          "text": [
            "/usr/local/lib/python3.7/dist-packages/pyspark/sql/context.py:127: FutureWarning: Deprecated in 3.0.0. Use SparkSession.builder.getOrCreate() instead.\n",
            "  FutureWarning\n"
          ]
        }
      ]
    },
    {
      "cell_type": "code",
      "source": [
        "### Performance Metrics\n",
        "pred_results.r2,pred_results.meanAbsoluteError,pred_results.meanSquaredError"
      ],
      "metadata": {
        "colab": {
          "base_uri": "https://localhost:8080/"
        },
        "id": "Mtifz5rm469s",
        "outputId": "4299ba32-cb85-4ba6-bd55-a9f41fc517b1"
      },
      "execution_count": 211,
      "outputs": [
        {
          "output_type": "execute_result",
          "data": {
            "text/plain": [
              "(0.3339141346540153, 4.950310166042693, 49.33935511397108)"
            ]
          },
          "metadata": {},
          "execution_count": 211
        }
      ]
    },
    {
      "cell_type": "code",
      "source": [
        ""
      ],
      "metadata": {
        "id": "P_VzFs-V5B9Y"
      },
      "execution_count": null,
      "outputs": []
    }
  ]
}